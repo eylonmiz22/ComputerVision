{
  "nbformat": 4,
  "nbformat_minor": 0,
  "metadata": {
    "colab": {
      "name": "lab_4_Daniel_Eylon_final_notebook.ipynb",
      "provenance": [],
      "collapsed_sections": [],
      "machine_shape": "hm"
    },
    "kernelspec": {
      "name": "python3",
      "display_name": "Python 3"
    },
    "accelerator": "GPU"
  },
  "cells": [
    {
      "cell_type": "markdown",
      "metadata": {
        "id": "IDvOANpDXXdK"
      },
      "source": [
        "# Summary\n",
        "\n",
        "**Problem Defenition**\n",
        "Given an image, we want to obtain a sentence that describes what the image consists of.\n",
        "\n",
        "We established that the inputs are going to be images and out outputs are going to be sentences. We think of sentences as sequences of words.\n",
        "\n",
        "Firstly, we resized the dataset. We decided to resize to 224x224 because it is a small enough dimention in order to learn quickly and a big enough dimention in order to extract adequate features for image captioning.\n",
        "\n",
        "For this particular model we have used the DenseNet121 architecture in the encoder. It is relatively light weighted and very well performing architecture for computer vision applications; however, you can use any other convolutional architecture to map the images to the latent space. The dense net I used wasn’t pretrained to avoid the shift between the data-generating distributions.\n",
        "\n",
        "\n",
        "\n",
        "Now that an Encoder was built, it is time to address the Decoder:\n",
        "\n",
        "The Decoder consists of a recurrent neural network. In our particular case we have used a Long Short-Term Memory unit.\n",
        "\n",
        "We chose a batch size of 32, embed size of 256 and a hidden size of 256 (for better results and longer training we could have chosen better embed sizes).\n",
        "Loss metric is CrossEntropyLoss.\n",
        "BLEU metric was created in order to asses the output accuracy in some manner.\n",
        "\n",
        "\n",
        "We trained 8 different models to 25, 50, 75, 100..., 200 epochs, and saw that the scheduler has helped until 100 epochs, that the loss is stable and that the test examples were optimal at 100 and thus we chose the model 100 to showcase the results.\n",
        "\n",
        "\n",
        "Note: in this dataset we have noticed that the captions are quite diverse and uneven in the way that they portray the data. This results in a difficulty to learn a unified algorithm that knows to be precise about each image, but the results are quite good. As shown in the loss metric graph, we can see that the model does converge after 100 or so epochs on the data.\n",
        "\n",
        "Results (Good & Bad) are available in the attached folder:\n",
        "\n",
        "About the good results: we can see that model has learned to distinguish between objects, backgounds, colors, and sometimes actions.\n",
        "About the bad results: we can see that the model has a hard time to distinguish between passive actions, and actions that occur throught the dimention of time, such as a bike jumping (while it isnt) or a dog running altough it is standing still.\n",
        "Other errors include ignoring some of the objects in the image, such as captioning 4 people as a man and a woman.\n",
        "\n",
        "In Conclustion, we have explored the field of image captioning and it is a very interesting and complicated field.\n",
        "\n",
        "\n",
        "\n",
        "Eylon Mizrahi & Daniel Ivkovich"
      ]
    },
    {
      "cell_type": "code",
      "metadata": {
        "id": "R4F-0tZE0qUW",
        "outputId": "7be79a70-1691-4267-b59f-7ae20997d227",
        "colab": {
          "base_uri": "https://localhost:8080/"
        }
      },
      "source": [
        "from google.colab import drive\n",
        "drive.mount('/content/drive')"
      ],
      "execution_count": null,
      "outputs": [
        {
          "output_type": "stream",
          "text": [
            "Mounted at /content/drive\n"
          ],
          "name": "stdout"
        }
      ]
    },
    {
      "cell_type": "code",
      "metadata": {
        "id": "GhHml3eT0u-m"
      },
      "source": [
        "code_path = '/content/drive/My Drive/Vision2/lab3-4/ImageCaption.zip'\n",
        "dataset_path = '/content/drive/My Drive/Vision2/lab3-4/imgs.zip'\n",
        "caption_path = '/content/captions.txt'\n",
        "new_path = '/content/images/'\n",
        "saved_weights_path = '/content/drive/My Drive/Vision2/lab3-4/saved_weights/'\n",
        "\n",
        "train_stats_path = '/content/drive/My Drive/Vision2/lab3-4/stats.txt'"
      ],
      "execution_count": null,
      "outputs": []
    },
    {
      "cell_type": "code",
      "metadata": {
        "id": "M-qvAVKM0vAt"
      },
      "source": [
        "!unzip '$dataset_path' -d /content"
      ],
      "execution_count": null,
      "outputs": []
    },
    {
      "cell_type": "markdown",
      "metadata": {
        "id": "MT0lg6xw3Bb6"
      },
      "source": [
        "# Loader"
      ]
    },
    {
      "cell_type": "code",
      "metadata": {
        "id": "etqOyspY0vFW",
        "outputId": "102bf97a-790c-4dfe-e99e-5387177eb9f7",
        "colab": {
          "base_uri": "https://localhost:8080/"
        }
      },
      "source": [
        "import os  \n",
        "import pandas as pd  \n",
        "import spacy  \n",
        "import torch\n",
        "from torch.nn.utils.rnn import pad_sequence  \n",
        "from torch.utils.data import DataLoader, Dataset\n",
        "from PIL import Image  \n",
        "import torchvision.transforms as transforms\n",
        "\n",
        "\n",
        "\n",
        "spacy_eng = spacy.load(\"en\")\n",
        "\n",
        "\n",
        "class Vocabulary:\n",
        "    def __init__(self, freq_threshold):\n",
        "        self.itos = {0: \"<PAD>\", 1: \"<SOS>\", 2: \"<EOS>\", 3: \"<UNK>\"}\n",
        "        self.stoi = {\"<PAD>\": 0, \"<SOS>\": 1, \"<EOS>\": 2, \"<UNK>\": 3}\n",
        "        self.freq_threshold = freq_threshold\n",
        "\n",
        "    def __len__(self):\n",
        "        return len(self.itos)\n",
        "\n",
        "    @staticmethod\n",
        "    def tokenizer_eng(text):\n",
        "        return [tok.text.lower() for tok in spacy_eng.tokenizer(text)]\n",
        "\n",
        "    def build_vocabulary(self, sentence_list):\n",
        "        frequencies = {}\n",
        "        idx = 4\n",
        "\n",
        "        for sentence in sentence_list:\n",
        "            for word in self.tokenizer_eng(sentence):\n",
        "                if word not in frequencies:\n",
        "                    frequencies[word] = 1\n",
        "\n",
        "                else:\n",
        "                    frequencies[word] += 1\n",
        "\n",
        "                if frequencies[word] == self.freq_threshold:\n",
        "                    self.stoi[word] = idx\n",
        "                    self.itos[idx] = word\n",
        "                    idx += 1\n",
        "\n",
        "    def numericalize(self, text):\n",
        "        tokenized_text = self.tokenizer_eng(text)\n",
        "\n",
        "        return [\n",
        "            self.stoi[token] if token in self.stoi else self.stoi[\"<UNK>\"]\n",
        "            for token in tokenized_text\n",
        "        ]\n",
        "\n",
        "\n",
        "class FlickrDataset(Dataset):\n",
        "    def __init__(self, root_dir, captions_file, transform=None, freq_threshold=5):\n",
        "        self.root_dir = root_dir\n",
        "        self.df = pd.read_csv(captions_file)\n",
        "        self.transform = transform\n",
        "\n",
        "        # Get img, caption columns\n",
        "        self.imgs = self.df[\"image\"]\n",
        "        self.captions = self.df[\"caption\"]\n",
        "\n",
        "        # Initialize vocabulary and build vocab\n",
        "        self.vocab = Vocabulary(freq_threshold)\n",
        "        self.vocab.build_vocabulary(self.captions.tolist())\n",
        "\n",
        "    def __len__(self):\n",
        "        return len(self.df)\n",
        "\n",
        "    def __getitem__(self, index):\n",
        "        caption = self.captions[index]\n",
        "        img_id = self.imgs[index]\n",
        "        img = Image.open(os.path.join(self.root_dir, img_id)).convert(\"RGB\")\n",
        "\n",
        "        if self.transform is not None:\n",
        "            img = self.transform(img)\n",
        "\n",
        "        numericalized_caption = [self.vocab.stoi[\"<SOS>\"]]\n",
        "        numericalized_caption += self.vocab.numericalize(caption)\n",
        "        numericalized_caption.append(self.vocab.stoi[\"<EOS>\"])\n",
        "\n",
        "        return img, torch.tensor(numericalized_caption)\n",
        "\n",
        "\n",
        "class MyCollate:\n",
        "    def __init__(self, pad_idx):\n",
        "        self.pad_idx = pad_idx\n",
        "\n",
        "    def __call__(self, batch):\n",
        "        imgs = [item[0].unsqueeze(0) for item in batch]\n",
        "        imgs = torch.cat(imgs, dim=0)\n",
        "        targets = [item[1] for item in batch]\n",
        "        targets = pad_sequence(targets, batch_first=False, padding_value=self.pad_idx)\n",
        "\n",
        "        return imgs, targets\n",
        "\n",
        "\n",
        "def get_loader(\n",
        "    root_folder,\n",
        "    annotation_file,\n",
        "    transform,\n",
        "    batch_size=32,\n",
        "    num_workers=8,\n",
        "    shuffle=True,\n",
        "    pin_memory=True,\n",
        "):\n",
        "    dataset = FlickrDataset(root_folder, annotation_file, transform=transform)\n",
        "\n",
        "    pad_idx = dataset.vocab.stoi[\"<PAD>\"]\n",
        "\n",
        "    loader = DataLoader(\n",
        "        dataset=dataset,\n",
        "        batch_size=batch_size,\n",
        "        num_workers=num_workers,\n",
        "        shuffle=shuffle,\n",
        "        pin_memory=pin_memory,\n",
        "        collate_fn=MyCollate(pad_idx=pad_idx),\n",
        "    )\n",
        "\n",
        "    return loader, dataset\n",
        "\n",
        "\n",
        "if __name__ == \"__main__\":\n",
        "    transform = transforms.Compose([transforms.ToTensor(),])\n",
        "\n",
        "    loader, dataset = get_loader(new_path, caption_path, transform=transform)\n",
        "\n",
        "    for idx, (imgs, captions) in enumerate(loader):\n",
        "        print(imgs.shape)\n",
        "        print(captions.shape)\n",
        "        break\n"
      ],
      "execution_count": null,
      "outputs": [
        {
          "output_type": "stream",
          "text": [
            "torch.Size([32, 3, 224, 224])\n",
            "torch.Size([33, 32])\n"
          ],
          "name": "stdout"
        }
      ]
    },
    {
      "cell_type": "markdown",
      "metadata": {
        "id": "3IhnZMer3Ed-"
      },
      "source": [
        "# Models"
      ]
    },
    {
      "cell_type": "code",
      "metadata": {
        "id": "WNZFrhxr0vHs"
      },
      "source": [
        "import torch\n",
        "import torch.nn as nn\n",
        "import statistics\n",
        "import torchvision.models as models\n",
        "\n",
        "\n",
        "class Encoder(nn.Module):\n",
        "    def __init__(self, embed_size, to_train=False):\n",
        "        super(Encoder, self).__init__()\n",
        "        self.to_train = to_train\n",
        "        self.resnet = models.resnet101(pretrained=True)\n",
        "        self.resnet.fc = nn.Linear(self.resnet.fc.in_features, embed_size)\n",
        "        self.relu = nn.ReLU()\n",
        "        self.dropout = nn.Dropout(0.5)\n",
        "\n",
        "    def forward(self, images):\n",
        "        features = self.resnet(images)\n",
        "        return self.dropout(self.relu(features))\n",
        "\n",
        "\n",
        "class Decoder(nn.Module):\n",
        "    def __init__(self, embed_size, hidden_size, vocab_size, num_layers):\n",
        "        super(Decoder, self).__init__()\n",
        "        self.embed = nn.Embedding(vocab_size, embed_size)\n",
        "        self.lstm = nn.LSTM(embed_size, hidden_size, num_layers)\n",
        "        self.linear = nn.Linear(hidden_size, vocab_size)\n",
        "        self.dropout = nn.Dropout(0.5)\n",
        "\n",
        "    def forward(self, features, captions):\n",
        "        embeddings = self.dropout(self.embed(captions))\n",
        "        embeddings = torch.cat((features.unsqueeze(0), embeddings), dim=0)\n",
        "        hiddens, _ = self.lstm(embeddings)\n",
        "        outputs = self.linear(hiddens)\n",
        "        return outputs\n",
        "\n",
        "\n",
        "class EncoderDecoder(nn.Module):\n",
        "    def __init__(self, embed_size, hidden_size, vocab_size, num_layers):\n",
        "        super(EncoderDecoder, self).__init__()\n",
        "        self.encoder = Encoder(embed_size)\n",
        "        self.decoder = Decoder(embed_size, hidden_size, vocab_size, num_layers)\n",
        "\n",
        "    def forward(self, images, captions):\n",
        "        features = self.encoder(images)\n",
        "        outputs = self.decoder(features, captions)\n",
        "        return outputs\n",
        "\n",
        "    def caption_image(self, image, vocabulary, max_length=50):\n",
        "        result_caption = []\n",
        "        with torch.no_grad():\n",
        "            x = self.encoder(image).unsqueeze(0)\n",
        "            states = None\n",
        "\n",
        "            for _ in range(max_length):\n",
        "                hiddens, states = self.decoder.lstm(x, states)\n",
        "                output = self.decoder.linear(hiddens.squeeze(0))\n",
        "                predicted = output.argmax(1)\n",
        "                result_caption.append(predicted.item())\n",
        "                x = self.decoder.embed(predicted).unsqueeze(0)\n",
        "\n",
        "                if vocabulary.itos[predicted.item()] == \"<EOS>\":\n",
        "                    break\n",
        "\n",
        "        return [vocabulary.itos[idx] for idx in result_caption]\n"
      ],
      "execution_count": null,
      "outputs": []
    },
    {
      "cell_type": "markdown",
      "metadata": {
        "id": "3gQcUdIV3Hkr"
      },
      "source": [
        "# Training"
      ]
    },
    {
      "cell_type": "code",
      "metadata": {
        "id": "25NKZQk5c4L5"
      },
      "source": [
        "import torch\n",
        "from tqdm import tqdm\n",
        "import torch.nn as nn\n",
        "import torch.optim as optim\n",
        "import torchvision.transforms as transforms\n",
        "from torch.utils.tensorboard import SummaryWriter\n"
      ],
      "execution_count": null,
      "outputs": []
    },
    {
      "cell_type": "code",
      "metadata": {
        "id": "xzDmaRj90vJt"
      },
      "source": [
        "def train():\n",
        "    global saved_weights_path\n",
        "    transform = transforms.Compose(\n",
        "        [\n",
        "            transforms.ToTensor(),\n",
        "            transforms.Normalize((0.5, 0.5, 0.5), (0.5, 0.5, 0.5)),\n",
        "        ]\n",
        "    )\n",
        "\n",
        "    train_loader, dataset = get_loader(\n",
        "        root_folder=new_path,\n",
        "        annotation_file=caption_path,\n",
        "        transform=transform,\n",
        "        num_workers=2,\n",
        "    )\n",
        "\n",
        "    torch.backends.cudnn.benchmark = True\n",
        "    device = torch.device(\"cuda\" if torch.cuda.is_available() else \"cpu\")\n",
        "    load_model = True\n",
        "    save_model = True\n",
        "    train_CNN = False\n",
        "\n",
        "    # Hyperparameters\n",
        "    embed_size = 256\n",
        "    hidden_size = 256\n",
        "    vocab_size = len(dataset.vocab)\n",
        "    num_layers = 1\n",
        "    learning_rate = 3e-6\n",
        "    num_epochs = 200\n",
        "\n",
        "    step = 0\n",
        "\n",
        "    # initialize model, loss etc\n",
        "    model = EncoderDecoder(embed_size, hidden_size, vocab_size, num_layers).to(device)\n",
        "    criterion = nn.CrossEntropyLoss(ignore_index=dataset.vocab.stoi[\"<PAD>\"])\n",
        "    optimizer = optim.Adam(model.parameters(), lr=learning_rate)\n",
        "    sched = torch.optim.lr_scheduler.StepLR(optimizer, step_size=50, gamma=0.1)\n",
        "\n",
        "    # Only finetune the CNN\n",
        "    for name, param in model.encoder.resnet.named_parameters():\n",
        "        if \"fc.weight\" in name or \"fc.bias\" in name:\n",
        "            param.requires_grad = True\n",
        "        else:\n",
        "            param.requires_grad = train_CNN\n",
        "\n",
        "    if load_model:\n",
        "        step = load_checkpoint(torch.load(saved_weights_path + \"my_checkpoint300.pth.tar\"), model, optimizer, sched)\n",
        "\n",
        "    model.train()\n",
        "    with open(train_stats_path, 'a') as stats_file:\n",
        "        for epoch in range(num_epochs):\n",
        "            # Uncomment the line below to see a couple of test cases\n",
        "            print_examples(model, device, dataset)\n",
        "\n",
        "            if save_model and epoch > 0 and epoch % 25 == 0:\n",
        "                checkpoint = {\n",
        "                    \"state_dict\": model.state_dict(),\n",
        "                    \"optimizer\": optimizer.state_dict(),\n",
        "                    \"scheduler\": sched.state_dict(),\n",
        "                    \"step\": step,\n",
        "                }\n",
        "                save_checkpoint(checkpoint)\n",
        "\n",
        "            for idx, (imgs, captions) in tqdm(\n",
        "                enumerate(train_loader), total=len(train_loader), position=0, leave=True\n",
        "            ):\n",
        "                imgs = imgs.to(device)\n",
        "                captions = captions.to(device)\n",
        "\n",
        "                outputs = model(imgs, captions[:-1])\n",
        "                loss = criterion(\n",
        "                    outputs.reshape(-1, outputs.shape[2]), captions.reshape(-1)\n",
        "                )\n",
        "\n",
        "                step += 1\n",
        "                # Save stats\n",
        "                stats_file.write(f'{loss}\\n')\n",
        "                stats_file.flush()\n",
        "                \n",
        "                optimizer.zero_grad()\n",
        "                loss.backward(loss)\n",
        "                optimizer.step()\n",
        "        sched.step()\n",
        "\n",
        "\n",
        "\n",
        "if __name__ == \"__main__\":\n",
        "    train()\n"
      ],
      "execution_count": null,
      "outputs": []
    },
    {
      "cell_type": "markdown",
      "metadata": {
        "id": "qdG0EldE3KCF"
      },
      "source": [
        "# Utils and Examples"
      ]
    },
    {
      "cell_type": "code",
      "metadata": {
        "id": "W7uLKEwc2gcO"
      },
      "source": [
        "import torch\n",
        "import torchvision.transforms as transforms\n",
        "from PIL import Image\n",
        "\n",
        "\n",
        "def print_examples(model, device, dataset):\n",
        "    transform = transforms.Compose(\n",
        "        [\n",
        "            transforms.Resize((299, 299)),\n",
        "            transforms.ToTensor(),\n",
        "            transforms.Normalize((0.5, 0.5, 0.5), (0.5, 0.5, 0.5)),\n",
        "        ]\n",
        "    )\n",
        "    img_paths = ['/content/text_examples/dog.jpg', '/content/text_examples/child.jpg', '/content/text_examples/bus.png', '/content/text_examples/boat.png', '/content/text_examples/horse.png' ]\n",
        "    model.eval()\n",
        "    test_img1 = transform(Image.open(img_paths[0]).convert(\"RGB\")).unsqueeze(\n",
        "        0\n",
        "    )\n",
        "    print(\"Example 1 CORRECT: Dog on a beach by the ocean\")\n",
        "    print(\n",
        "        \"Example 1 OUTPUT: \"\n",
        "        + \" \".join(model.caption_image(test_img1.to(device), dataset.vocab))\n",
        "    )\n",
        "    test_img2 = transform(\n",
        "        Image.open(img_paths[1]).convert(\"RGB\")\n",
        "    ).unsqueeze(0)\n",
        "    print(\"Example 2 CORRECT: Child holding red frisbee outdoors\")\n",
        "    print(\n",
        "        \"Example 2 OUTPUT: \"\n",
        "        + \" \".join(model.caption_image(test_img2.to(device), dataset.vocab))\n",
        "    )\n",
        "    test_img3 = transform(Image.open(img_paths[2]).convert(\"RGB\")).unsqueeze(\n",
        "        0\n",
        "    )\n",
        "    print(\"Example 3 CORRECT: Bus driving by parked cars\")\n",
        "    print(\n",
        "        \"Example 3 OUTPUT: \"\n",
        "        + \" \".join(model.caption_image(test_img3.to(device), dataset.vocab))\n",
        "    )\n",
        "    test_img4 = transform(\n",
        "        Image.open(img_paths[3]).convert(\"RGB\")\n",
        "    ).unsqueeze(0)\n",
        "    print(\"Example 4 CORRECT: A small boat in the ocean\")\n",
        "    print(\n",
        "        \"Example 4 OUTPUT: \"\n",
        "        + \" \".join(model.caption_image(test_img4.to(device), dataset.vocab))\n",
        "    )\n",
        "    test_img5 = transform(\n",
        "        Image.open(img_paths[4]).convert(\"RGB\")\n",
        "    ).unsqueeze(0)\n",
        "    print(\"Example 5 CORRECT: A cowboy riding a horse in the desert\")\n",
        "    print(\n",
        "        \"Example 5 OUTPUT: \"\n",
        "        + \" \".join(model.caption_image(test_img5.to(device), dataset.vocab))\n",
        "    )\n",
        "    model.train()\n",
        "\n",
        "\n",
        "def save_checkpoint(state, filename=\"my_checkpoint.pth.tar\"):\n",
        "    global saved_weights_path\n",
        "    print(\"=> Saving checkpoint\")\n",
        "    torch.save(state, saved_weights_path + filename)\n",
        "\n",
        "\n",
        "def load_checkpoint(checkpoint, model, optimizer, sched):\n",
        "    print(\"=> Loading checkpoint\")\n",
        "    model.load_state_dict(checkpoint[\"state_dict\"])\n",
        "    optimizer.load_state_dict(checkpoint[\"optimizer\"])\n",
        "    sched.load_state_dict(checkpoint[\"scheduler\"])\n",
        "    step = checkpoint[\"step\"]\n",
        "    return step\n"
      ],
      "execution_count": null,
      "outputs": []
    },
    {
      "cell_type": "markdown",
      "metadata": {
        "id": "X6Le1R3aqjKT"
      },
      "source": [
        "# Loading each Model and Defining Parameters"
      ]
    },
    {
      "cell_type": "code",
      "metadata": {
        "id": "IQMbTVlbZ7zJ",
        "outputId": "f3ce9ac3-b909-4975-e1e7-82dc890f754e",
        "colab": {
          "base_uri": "https://localhost:8080/"
        }
      },
      "source": [
        "\n",
        "transform = transforms.Compose(\n",
        "    [\n",
        "        transforms.Resize((299, 299)),\n",
        "        transforms.ToTensor(),\n",
        "        transforms.Normalize((0.5, 0.5, 0.5), (0.5, 0.5, 0.5)),\n",
        "    ]\n",
        ")\n",
        "\n",
        "train_loader, dataset = get_loader(\n",
        "    root_folder=new_path,\n",
        "    annotation_file=caption_path,\n",
        "    transform=transform,\n",
        "    num_workers=2,\n",
        ")\n",
        "\n",
        "device = torch.device(\"cuda\" if torch.cuda.is_available() else \"cpu\")\n",
        "# Hyperparameters\n",
        "embed_size = 256\n",
        "hidden_size = 256\n",
        "vocab_size = len(dataset.vocab)\n",
        "num_layers = 1\n",
        "learning_rate = 3e-6\n",
        "num_epochs = 200\n",
        "\n",
        "model = EncoderDecoder(embed_size, hidden_size, vocab_size, num_layers).to(device)\n",
        "criterion = nn.CrossEntropyLoss(ignore_index=dataset.vocab.stoi[\"<PAD>\"])\n",
        "optimizer = optim.Adam(model.parameters(), lr=learning_rate)\n",
        "sched = torch.optim.lr_scheduler.StepLR(optimizer, step_size=50, gamma=0.1)\n",
        "\n",
        "step = load_checkpoint(torch.load(saved_weights_path + \"my_checkpoint100.pth.tar\"), model, optimizer, sched)"
      ],
      "execution_count": null,
      "outputs": [
        {
          "output_type": "stream",
          "text": [
            "=> Loading checkpoint\n"
          ],
          "name": "stdout"
        }
      ]
    },
    {
      "cell_type": "markdown",
      "metadata": {
        "id": "sBqy5cIqTXPc"
      },
      "source": [
        "# Test Examples:"
      ]
    },
    {
      "cell_type": "code",
      "metadata": {
        "id": "4KDtF5AwyIqh",
        "outputId": "f2520e21-0607-43ad-ab9a-61624dc6b5c4",
        "colab": {
          "base_uri": "https://localhost:8080/"
        }
      },
      "source": [
        "model.eval()\n",
        "print_examples(model, device, dataset)"
      ],
      "execution_count": null,
      "outputs": [
        {
          "output_type": "stream",
          "text": [
            "Example 1 CORRECT: Dog on a beach by the ocean\n",
            "Example 1 OUTPUT: <SOS> a dog is running through the snow . <EOS>\n",
            "Example 2 CORRECT: Child holding red frisbee outdoors\n",
            "Example 2 OUTPUT: <SOS> a little girl in a pink shirt is playing with a red ball . <EOS>\n",
            "Example 3 CORRECT: Bus driving by parked cars\n",
            "Example 3 OUTPUT: <SOS> a man in a black shirt and jeans stands in front of a display of people . <EOS>\n",
            "Example 4 CORRECT: A small boat in the ocean\n",
            "Example 4 OUTPUT: <SOS> a dog is jumping into the water . <EOS>\n",
            "Example 5 CORRECT: A cowboy riding a horse in the desert\n",
            "Example 5 OUTPUT: <SOS> a man in a red shirt is standing in front of a large rock formation . <EOS>\n"
          ],
          "name": "stdout"
        }
      ]
    },
    {
      "cell_type": "markdown",
      "metadata": {
        "id": "O3YSON1qnV2F"
      },
      "source": [
        "#Loading Model 100 and generating images(Good & Bad) for the attached folder."
      ]
    },
    {
      "cell_type": "code",
      "metadata": {
        "id": "e5iWlIOKxFZQ"
      },
      "source": [
        "import matplotlib.pyplot as plt\n",
        "plt.rcParams[\"figure.figsize\"] = (5, 5)\n",
        "\n",
        "\n",
        "mean, std =(0.5, 0.5, 0.5), (0.5, 0.5, 0.5)\n",
        "inv_normalize = transforms.Normalize(\n",
        "   mean= [-m/s for m, s in zip(mean, std)],\n",
        "   std= [1/s for s in std]\n",
        ")\n",
        "\n",
        "\n",
        "\n",
        "for (imgs, captions) in train_loader:\n",
        "    model.eval()\n",
        "    i = 0\n",
        "    for img in imgs:\n",
        "        pic = inv_normalize(img)\n",
        "        pic = pic.cpu().permute(1, 2, 0).numpy()\n",
        "        pic = pic[...,::-1]\n",
        "\n",
        "        img = img.unsqueeze(0).to(device)\n",
        "        cap = model.caption_image(img, dataset.vocab)\n",
        "        print(\"OUTPUT: \"+ \" \".join(cap))\n",
        "        plt.imshow(pic)\n",
        "        plt.show()\n",
        "        i += 1\n",
        "        if i == 5:\n",
        "            break\n",
        "    break"
      ],
      "execution_count": null,
      "outputs": []
    },
    {
      "cell_type": "code",
      "metadata": {
        "id": "Jjy9dM3y2P8X",
        "outputId": "4ad1e2ce-d091-4dbf-98fd-137346998f4b",
        "colab": {
          "base_uri": "https://localhost:8080/",
          "height": 621
        }
      },
      "source": [
        "def plot_loss(path, mod=1265):\n",
        "    Y = []\n",
        "    with open(path, 'r') as f:\n",
        "        lines = f.readlines()\n",
        "        num_epochs = len(lines)\n",
        "\n",
        "        for i, line in enumerate(lines):\n",
        "            if i/mod > 200:\n",
        "              break\n",
        "            if i > 100000 and i < 150000: # a crash occured in training\n",
        "              continue\n",
        "            if i % mod == 0:\n",
        "                line = line.strip('\\n')\n",
        "                line_stat = float(line)\n",
        "                Y.append(line_stat)\n",
        "\n",
        "            \n",
        "    plt.rcParams[\"figure.figsize\"] = (10, 10)\n",
        "\n",
        "    x = [j for j in range(len(Y))] \n",
        "\n",
        "\n",
        "    plt.title('Loss for Epochs')\n",
        "    plt.xlabel('Epochs')\n",
        "    plt.ylabel('Loss Metric')\n",
        "    plt.plot(x, Y, 'b')\n",
        "    plt.show()\n",
        "\n",
        "plot_loss('/content/drive/My Drive/Vision2/lab3-4/stats.txt')"
      ],
      "execution_count": null,
      "outputs": [
        {
          "output_type": "display_data",
          "data": {
            "image/png": "[encoded data removed]",
            "text/plain": [
              "<Figure size 720x720 with 1 Axes>"
            ]
          },
          "metadata": {
            "tags": [],
            "needs_background": "light"
          }
        }
      ]
    },
    {
      "cell_type": "markdown",
      "metadata": {
        "id": "T4IFStuXqBKk"
      },
      "source": [
        "# BLEU class to calculate the metric"
      ]
    },
    {
      "cell_type": "code",
      "metadata": {
        "id": "ou3TYJBzTxM9"
      },
      "source": [
        "import sys\n",
        "import os\n",
        "import io\n",
        "import math\n",
        "from collections import Counter\n",
        "\n",
        "class BLEUCalculator():\n",
        "\t\"\"\" Calculates BLEU metric for MT \"\"\"\n",
        "\t\n",
        "\tdef __init__(self):\n",
        "\t\tself.candidate = None\n",
        "\t\tself.references = None\n",
        "\t\tself.N = 4\n",
        "\t\tself.output_file_name = '/content/drive/My Drive/Vision2/lab3-4/bleu_out.txt'\n",
        "\n",
        "\tdef main(self, args):\n",
        "\t\tself.load_files(args[0], args[1])\n",
        "\t\tBLEU_score = self.calculate_BLEU_score()\n",
        "\t\tself.write_file(BLEU_score)\n",
        "\n",
        "\tdef load_files(self, candidate_file, reference_path='/content/drive/My Drive/Vision2/lab3-4/ref.txt'):\n",
        "\t\treference_files = []\n",
        "\t\tif(os.path.isfile(reference_path)):\n",
        "\t\t\treference_files.append(list(io.open(reference_path, encoding='utf-8')))\n",
        "\t\telse:\n",
        "\t\t\treference_file_dir = reference_path\n",
        "\t\t\tfor f, file in enumerate(os.listdir(reference_path)):\n",
        "\t\t\t\treference_filename = reference_path + '/' + file\n",
        "\t\t\t\treference_files.append(list(io.open(reference_filename, encoding='utf-8')))\n",
        "\n",
        "\t\tself.references = reference_files\n",
        "\t\tself.candidate = list(io.open(candidate_file, encoding='utf-8'))\n",
        "\n",
        "\t\t\n",
        "\tdef calculate_BLEU_score(self):\n",
        "\t\tBP = self.calculate_brevity_penalty()\n",
        "\t\tpn_term = self.calculate_weighted_pn_sum()\n",
        "\n",
        "\t\tBLEU_score = BP * math.exp(pn_term)\n",
        "\n",
        "\t\tprint \"------------------------\"\n",
        "\t\tprint \"BLEU: \" + str(BLEU_score)\n",
        "\t\tprint \"------------------------\"\n",
        "\t\treturn BLEU_score\n",
        "\n",
        "\tdef calculate_brevity_penalty(self):\n",
        "\t\tBP = 0; c = 0; r = 0;\n",
        "\t\tfor l_no, candidate_line in enumerate(self.candidate):\n",
        "\t\t\tcandidate_length = len(self.clean_read_words(candidate_line))\n",
        "\n",
        "\t\t\treference_lengths = []\n",
        "\t\t\tfor ref_file_no, reference in enumerate(self.references):\n",
        "\t\t\t\treference_lengths.append(len(self.clean_read_words(reference[l_no])))\n",
        "\n",
        "\t\t\teffective_reference_length = min(reference_lengths, key=lambda x:abs(x-candidate_length))\n",
        "\t\t\tr += effective_reference_length\n",
        "\t\t\tc += candidate_length\n",
        "\n",
        "\n",
        "\t\tif(c > r):\n",
        "\t\t\tBP = 1\n",
        "\t\telse:\n",
        "\t\t\tBP = math.exp(1 - float(r)/float(c))\n",
        "\t\t\n",
        "\t\n",
        "\t\tprint \"BP: \" + str(BP)\n",
        "\t\t\n",
        "\t\treturn BP\n",
        "\n",
        "\tdef calculate_weighted_pn_sum(self):\n",
        "\t\tweighted_pn_sum = 0\n",
        "\t\t\n",
        "\t\twn = 1.0/float(self.N)\n",
        "\t\tfor n in range(1, self.N + 1):\n",
        "\t\t\tpn = self.calculate_modified_pn(n)\n",
        "\t\t\tif(pn != 0):\n",
        "\t\t\t\tweighted_pn_sum += (wn * math.log(pn), wn) [pn == 0]\n",
        "\n",
        "\t\treturn weighted_pn_sum\n",
        "\n",
        "\tdef calculate_modified_pn(self, n):\n",
        "\t\t\n",
        "\t\tclipped_count_sum = 0\n",
        "\t\tcandidate_n_grams_count_sum = 0\n",
        "\t\t\n",
        "\t\tfor l_no, line in enumerate(self.references[0]):\n",
        "\t\t\tref_ngram_counts = self.get_max_ref_count(n, l_no)\n",
        "\t\t\tclipped_count, candidate_n_grams_count = self.calculate_clipped_count_sum(l_no, ref_ngram_counts, n)\t\n",
        "\t\t\tclipped_count_sum += clipped_count\n",
        "\t\t\tcandidate_n_grams_count_sum += candidate_n_grams_count\n",
        "\n",
        "\t\tmodified_pn = float(clipped_count_sum) / float(candidate_n_grams_count_sum)\n",
        "\t\tprint \"P(\" + str(n) + \") = \" + str(clipped_count_sum) + \"/\" + str(candidate_n_grams_count_sum) + \" = \" + str(modified_pn)\n",
        "\t\treturn modified_pn\n",
        "\t\n",
        "\tdef get_ngrams(self, n, line):\n",
        "\t\tngrams = []\n",
        "\t\twords = self.clean_read_words(line)\n",
        "\t\tfor i in range(0, len(words) - n + 1):\n",
        "\t\t\tif(n <= len(words)):\n",
        "\t\t\t\tngrams.append(' '.join(str(w.encode('utf-8')) for w in words[i:i+n]))\n",
        "\t\treturn ngrams\n",
        "\n",
        "\tdef calculate_clipped_count_sum(self, l_no, ref_ngram_counts, n):\n",
        "\t\tclipped_count_sum = 0\n",
        "\t\tline = self.candidate[l_no]\n",
        "\t\twords = self.clean_read_words(line)\n",
        "\t\tmax_ngram_count = len(words) - n + 1\n",
        "\n",
        "\t\tngram_counts = {}\n",
        "\t\tngrams = self.get_ngrams(n, line)\n",
        "\t\tfor g, ngram in enumerate(ngrams):\n",
        "\t\t\tngram_counts[ngram] = ngrams.count(ngram)\n",
        "\n",
        "\t\tngram_counts = Counter(ngrams)\n",
        "\t\t\n",
        "\t\tfor g, ngram in enumerate(ngram_counts.keys()):\n",
        "\t\t\tcount = ngram_counts.get(ngram)\n",
        "\t\t\tmax_ref_count = (ref_ngram_counts.get(ngram), 0)[ref_ngram_counts.get(ngram) == None]\n",
        "\t\t\tclipped_count_sum += min(count, max_ref_count)\n",
        "\n",
        "\t\treturn clipped_count_sum, max_ngram_count\n",
        "\n",
        "\tdef get_max_ref_count(self, n, l_no):\n",
        "\t\tref_ngram_counts = {}\n",
        "\t\tfor ref_file_no, reference in enumerate(self.references):\n",
        "\t\t\tline = reference[l_no]\n",
        "\t\t\twords = self.clean_read_words(reference[l_no])\n",
        "\t\t\tngrams = self.get_ngrams(n, line)\n",
        "\t\t\tfor g, ngram in enumerate(ngrams):\n",
        "\t\t\t\tcount = ref_ngram_counts.get(ngram)\n",
        "\t\t\t\tif(count == None):\n",
        "\t\t\t\t\tcount = 1\n",
        "\t\t\t\tref_ngram_counts[ngram] = max(count, ngrams.count(ngram))\n",
        "\t\treturn ref_ngram_counts\n",
        "\n",
        "\tdef write_file(self, BLEU_score):\n",
        "\t\toutput_file = open(self.output_file_name, 'w')\n",
        "\t\toutput_file.write(str(BLEU_score))\n",
        "\t\toutput_file.close()\n",
        "\n",
        "\tdef clean_read_words(self, line):\n",
        "\t\treturn self.clean_read(line).split()\n",
        "\n",
        "\tdef clean_read(self, line):\n",
        "\t\treturn line.lower().strip()\n",
        "\n",
        "if __name__ == '__main__':\n",
        "\tBLEUCalculator().main(sys.argv[1:])"
      ],
      "execution_count": null,
      "outputs": []
    },
    {
      "cell_type": "code",
      "metadata": {
        "id": "ZFbEIWyTe7tg",
        "outputId": "8006cc6e-ed60-4884-e862-55fa1125d5e4",
        "colab": {
          "base_uri": "https://localhost:8080/",
          "height": 621
        }
      },
      "source": [
        "bleu_calc = BLEUCalculator()\n",
        "BLEU_results_paths = ['/content/drive/My Drive/Vision2/lab3-4/bleu_out25.txt', '/content/drive/My Drive/Vision2/lab3-4/bleu_out50.txt', \n",
        "                      '/content/drive/My Drive/Vision2/lab3-4/bleu_out75.txt','/content/drive/My Drive/Vision2/lab3-4/bleu_out100.txt','/content/drive/My Drive/Vision2/lab3-4/bleu_out125.txt',\n",
        "                      '/content/drive/My Drive/Vision2/lab3-4/bleu_out150.txt','/content/drive/My Drive/Vision2/lab3-4/bleu_out175.txt','/content/drive/My Drive/Vision2/lab3-4/bleu_out200.txt']\n",
        "step = 25\n",
        "x = [i*25 for i in range(1,8)] # for each model \n",
        "y = [] # average BLEU for each model\n",
        "j = 0\n",
        "for i in range(step, 200, step):\n",
        "  step = load_checkpoint(torch.load(saved_weights_path + \"my_checkpoint\" + str(i) + \".pth.tar\"), model, optimizer, sched)\n",
        "  model.eval()\n",
        "  with open(BLEU_results_paths[j], 'r+') as results:\n",
        "  j += 1\n",
        "      for (imgs, captions) in train_loader:\n",
        "          i = 0\n",
        "          for img in imgs:\n",
        "              img = img.unsqueeze(0).to(device)\n",
        "              cap = model.caption_image(img, dataset.vocab)\n",
        "              results.write(f'{cap}')\n",
        "      bleu_calc.load_files(BLEU_results_paths[j])  \n",
        "      y.append(bleu_calc.calculate_BLEU_score())\n",
        "\n",
        "plt.plot(x, y, color='red', marker=11)\n",
        "plt.title('Average BLEU metric per model')\n",
        "plt.xlabel('Model Training for x Epochs')\n",
        "plt.xlabel('BLEU score')\n",
        "plt.show()"
      ],
      "execution_count": 50,
      "outputs": [
        {
          "output_type": "display_data",
          "data": {
            "image/png": "[encoded data removed]",
            "text/plain": [
              "<Figure size 720x720 with 1 Axes>"
            ]
          },
          "metadata": {
            "tags": [],
            "needs_background": "light"
          }
        }
      ]
    }
  ]
}