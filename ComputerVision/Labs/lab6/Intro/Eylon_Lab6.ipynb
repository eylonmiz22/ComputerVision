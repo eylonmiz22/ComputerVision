{
 "cells": [
  {
   "cell_type": "code",
   "execution_count": 0,
   "metadata": {
    "colab": {},
    "colab_type": "code",
    "id": "DX4i3qFZpXh9"
   },
   "outputs": [],
   "source": [
    "import torchvision\n",
    "import torchvision.datasets as dset\n",
    "import torchvision.transforms as transforms\n",
    "import albumentations as A\n",
    "import numpy as np\n",
    "import math  \n",
    "from matplotlib import pyplot as plt\n",
    "import torch\n",
    "import cv2\n",
    "%matplotlib inline"
   ]
  },
  {
   "cell_type": "code",
   "execution_count": 0,
   "metadata": {
    "colab": {},
    "colab_type": "code",
    "id": "pGS9bf_vRCcN"
   },
   "outputs": [],
   "source": [
    "class Image(object):\n",
    "  def __init__(self, path):\n",
    "    self.path = path\n",
    "\n",
    "    self.rgb_image = None\n",
    "    self.bgr_image = None\n",
    "    self.gray_image = None\n",
    "\n",
    "\n",
    "  def read_image(self, return_image = False):\n",
    "    self.rgb_image = plt.imread(self.path)\n",
    "    if return_image:\n",
    "      return self.rgb_image\n",
    "\n",
    "\n",
    "  def bgr(self, return_image = False):\n",
    "    self.bgr_image = np.flip(plt.imread(self.path), 2)\n",
    "    if return_image:\n",
    "      return self.bgr_image\n",
    "\n",
    "\n",
    "  def gray(self, return_image = False):\n",
    "    self.gray_image = cv2.cvtColor(plt.imread(self.path), cv2.COLOR_RGB2GRAY)\n",
    "    if return_image:\n",
    "      return self.gray_imagezoom_img\n",
    "\n",
    "\n",
    "  @staticmethod\n",
    "  def show(image, title = 'image'):\n",
    "    if len(image.shape) == 3:\n",
    "      plt.imshow(image)\n",
    "    else:\n",
    "      plt.imshow(image, cmap = 'gray')\n",
    "\n",
    "    plt.title(title)\n",
    "\n",
    "\n",
    "  @staticmethod\n",
    "  def show_all(image_list, title_list):\n",
    "    assert len(image_list) == len(title_list), \"Incompatible lengths of lists!\"\n",
    "    N = len(image_list)\n",
    "    plt.figure(figsize=[20, 20])\n",
    "\n",
    "    for i in range(N):\n",
    "      plt.subplot(1, N, i + 1)\n",
    "      Image.show(image_list[i], title_list[i])\n",
    "    \n",
    "    plt.show()"
   ]
  },
  {
   "cell_type": "code",
   "execution_count": 0,
   "metadata": {
    "colab": {},
    "colab_type": "code",
    "id": "W0oVRZs1pZ6c"
   },
   "outputs": [],
   "source": [
    "class Albumentations_augmentations:\n",
    "  def __init__(self):\n",
    "    self.transform = None\n",
    "    self.aug_lst = list()\n",
    "\n",
    "    self.flip = None\n",
    "    self.blur = None\n",
    "    self.rotate = None\n",
    "\n",
    "\n",
    "  def set_flip(self, axis=1, flag=False):\n",
    "    if flag: # Then the value to set is none\n",
    "      self.flip = None\n",
    "      return\n",
    "\n",
    "    if axis == 0:\n",
    "      self.flip = A.HorizontalFlip(True)\n",
    "    elif axis == 1:\n",
    "      self.flip = A.VerticalFlip(True)\n",
    "\n",
    "\n",
    "  def set_rotate(self, from_lim=0, to_lim=180, flag=False):\n",
    "    if flag: # Then the value to set is none\n",
    "      self.rotate = None\n",
    "      return\n",
    "\n",
    "    self.rotate = A.Rotate(limit=(from_lim, to_lim), always_apply=True)\n",
    "\n",
    "\n",
    "  def set_blur(self, lim=5, flag=False):\n",
    "    if flag: # Then the value to set is none\n",
    "      self.blur = None\n",
    "      return\n",
    "\n",
    "    self.blur = A.Blur(blur_limit=lim, always_apply=True)\n",
    "\n",
    "\n",
    "  def set_transform(self):\n",
    "    self.aug_lst.clear()\n",
    "\n",
    "    if self.flip is not None:\n",
    "      self.aug_lst.append(self.flip)\n",
    "    if self.blur is not None:\n",
    "      self.aug_lst.append(self.blur)\n",
    "    if self.rotate is not None:\n",
    "      self.aug_lst.append(self.rotate)\n",
    "\n",
    "    self.transform = A.Compose(np.asarray(self.aug_lst))\n",
    "\n",
    "  \n",
    "  def delete_transform(self):\n",
    "    self.aug_lst.clear()\n",
    "    self.transform = None\n",
    "\n",
    "    self.flip = None\n",
    "    self.blur = None\n",
    "    self.rotate = None"
   ]
  },
  {
   "cell_type": "code",
   "execution_count": 25,
   "metadata": {
    "colab": {
     "base_uri": "https://localhost:8080/",
     "height": 256
    },
    "colab_type": "code",
    "id": "GdN5s8nDzZrL",
    "outputId": "c26ecdaf-c696-4cb6-c871-9036e77f97f7"
   },
   "outputs": [
    {
     "data": {
      "image/png": "[encoded data removed]",
      "text/plain": [
       "<Figure size 1440x1440 with 5 Axes>"
      ]
     },
     "metadata": {
      "needs_background": "light",
      "tags": []
     },
     "output_type": "display_data"
    }
   ],
   "source": [
    "train_set = torchvision.datasets.MNIST(root='', train=True, download=True, transform=transforms.ToTensor())\n",
    "num_classes = len(train_set)\n",
    "\n",
    "src_img = np.asarray(train_set[0][0][0])\n",
    "alb = Albumentations_augmentations()\n",
    "\n",
    "# Flip\n",
    "alb.set_flip()\n",
    "alb.set_transform()\n",
    "augmented = alb.transform(image=src_img)\n",
    "flipped_img = augmented['image']\n",
    "alb.set_flip(flag=True)\n",
    "\n",
    "# Rotate\n",
    "alb.set_rotate()\n",
    "alb.set_transform()\n",
    "augmented = alb.transform(image=src_img)\n",
    "rotated_img = augmented['image']\n",
    "alb.set_rotate(flag=True)\n",
    "\n",
    "# Blur\n",
    "alb.set_blur()\n",
    "alb.set_transform()\n",
    "augmented = alb.transform(image=src_img)\n",
    "blurred_img = augmented['image']\n",
    "alb.set_blur(flag=True)\n",
    "\n",
    "# All Together\n",
    "alb.set_flip()\n",
    "alb.set_rotate()\n",
    "alb.set_blur()\n",
    "alb.set_transform()\n",
    "augmented = alb.transform(image=src_img)\n",
    "all_togather = augmented['image']\n",
    "alb.delete_transform()\n",
    "\n",
    "Image.show_all([src_img, flipped_img, rotated_img, blurred_img, all_togather], ['Source Image', 'Flipped Image', 'Rotated Image', 'Blurred Image', 'All Togather'])"
   ]
  }
 ],
 "metadata": {
  "colab": {
   "collapsed_sections": [],
   "name": "Eylon_Lab6.ipynb",
   "provenance": []
  },
  "kernelspec": {
   "display_name": "Python 3",
   "language": "python",
   "name": "python3"
  },
  "language_info": {
   "codemirror_mode": {
    "name": "ipython",
    "version": 3
   },
   "file_extension": ".py",
   "mimetype": "text/x-python",
   "name": "python",
   "nbconvert_exporter": "python",
   "pygments_lexer": "ipython3",
   "version": "3.7.4"
  }
 },
 "nbformat": 4,
 "nbformat_minor": 1
}
