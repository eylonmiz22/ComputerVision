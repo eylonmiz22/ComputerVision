{
 "cells": [
  {
   "cell_type": "markdown",
   "metadata": {
    "colab_type": "text",
    "id": "IPyYUS4LV1Bw"
   },
   "source": [
    "# **Imports**"
   ]
  },
  {
   "cell_type": "code",
   "execution_count": 0,
   "metadata": {
    "colab": {},
    "colab_type": "code",
    "id": "2IFu2-mVNqMr"
   },
   "outputs": [],
   "source": [
    "import torchvision\n",
    "import torchvision.datasets as dset\n",
    "import torchvision.transforms as transforms\n",
    "import numpy as np\n",
    "import math  \n",
    "import torch\n",
    "import torch.nn as nn\n",
    "import torch.nn.functional as F\n",
    "\n",
    "from matplotlib import pyplot as plt\n",
    "from torch.utils.data import Dataset, DataLoader\n",
    "from functools import reduce\n",
    "\n",
    "%matplotlib inline\n",
    "\n",
    "# Consts\n",
    "MNIST_BATCH_SIZE = 128\n",
    "NUM_CLASSES = 10"
   ]
  },
  {
   "cell_type": "markdown",
   "metadata": {
    "colab_type": "text",
    "id": "UfxHGQRRZIVu"
   },
   "source": [
    "# **Import RAdam**"
   ]
  },
  {
   "cell_type": "code",
   "execution_count": 2,
   "metadata": {
    "colab": {
     "base_uri": "https://localhost:8080/",
     "height": 74,
     "resources": {
      "http://localhost:8080/nbextensions/google.colab/files.js": {
       "data": "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",
       "headers": [
        [
         "content-type",
         "application/javascript"
        ]
       ],
       "ok": true,
       "status": 200,
       "status_text": ""
      }
     }
    },
    "colab_type": "code",
    "id": "ymf2OJvBYwVJ",
    "outputId": "4ee82eb1-240e-4a5a-c136-1031c640a6fe"
   },
   "outputs": [
    {
     "data": {
      "text/html": [
       "\n",
       "     <input type=\"file\" id=\"files-33345d6b-e648-4e90-a477-bc9e6ac11789\" name=\"files[]\" multiple disabled />\n",
       "     <output id=\"result-33345d6b-e648-4e90-a477-bc9e6ac11789\">\n",
       "      Upload widget is only available when the cell has been executed in the\n",
       "      current browser session. Please rerun this cell to enable.\n",
       "      </output>\n",
       "      <script src=\"/nbextensions/google.colab/files.js\"></script> "
      ],
      "text/plain": [
       "<IPython.core.display.HTML object>"
      ]
     },
     "metadata": {
      "tags": []
     },
     "output_type": "display_data"
    },
    {
     "name": "stdout",
     "output_type": "stream",
     "text": [
      "Saving gitradam.py to gitradam.py\n"
     ]
    }
   ],
   "source": [
    "from google.colab import files\n",
    "src = list(files.upload().values())[0]\n",
    "open('mylib1.py','wb').write(src)\n",
    "import mylib1"
   ]
  },
  {
   "cell_type": "markdown",
   "metadata": {
    "colab_type": "text",
    "id": "d6ttnCPKG0ru"
   },
   "source": [
    "# **Image Helper Class**"
   ]
  },
  {
   "cell_type": "code",
   "execution_count": 0,
   "metadata": {
    "colab": {},
    "colab_type": "code",
    "id": "x_ZlYNjNG1n5"
   },
   "outputs": [],
   "source": [
    "class Image(object):\n",
    "  def __init__(self, path):\n",
    "    self.path = path\n",
    "\n",
    "    self.rgb_image = None\n",
    "    self.bgr_image = None\n",
    "    self.gray_image = None\n",
    "\n",
    "\n",
    "  def read_image(self, return_image = False):\n",
    "    self.rgb_image = plt.imread(self.path)\n",
    "    if return_image:\n",
    "      return self.rgb_image\n",
    "\n",
    "\n",
    "  def bgr(self, return_image = False):\n",
    "    self.bgr_image = np.flip(plt.imread(self.path), 2)\n",
    "    if return_image:\n",
    "      return self.bgr_image\n",
    "\n",
    "\n",
    "  def gray(self, return_image = False):\n",
    "    self.gray_image = cv2.cvtColor(plt.imread(self.path), cv2.COLOR_RGB2GRAY)\n",
    "    if return_image:\n",
    "      return self.gray_imagezoom_img\n",
    "\n",
    "\n",
    "  @staticmethod\n",
    "  def show(image, title = 'image'):\n",
    "    if len(image.shape) == 3:\n",
    "      plt.imshow(image)\n",
    "    else:\n",
    "      plt.imshow(image, cmap = 'gray')\n",
    "\n",
    "    plt.title(title)\n",
    "\n",
    "\n",
    "  @staticmethod\n",
    "  def show_all(image_list, title_list):\n",
    "    assert len(image_list) == len(title_list), \"Incompatible lengths of lists!\"\n",
    "    N = len(image_list)\n",
    "    plt.figure(figsize=[20, 20])\n",
    "\n",
    "    for i in range(N):\n",
    "      plt.subplot(1, N, i + 1)\n",
    "      Image.show(image_list[i], title_list[i])\n",
    "    \n",
    "    plt.show()"
   ]
  },
  {
   "cell_type": "markdown",
   "metadata": {
    "colab_type": "text",
    "id": "1FUXBB7AV6ga"
   },
   "source": [
    "# **MNIST Train Dataset and Dataloader**"
   ]
  },
  {
   "cell_type": "code",
   "execution_count": 177,
   "metadata": {
    "colab": {
     "base_uri": "https://localhost:8080/",
     "height": 282
    },
    "colab_type": "code",
    "id": "e8NAvOnzr_hg",
    "outputId": "083e67ce-314a-444c-f567-02652969760b"
   },
   "outputs": [
    {
     "data": {
      "text/plain": [
       "<matplotlib.image.AxesImage at 0x7f7ac6a85b00>"
      ]
     },
     "execution_count": 177,
     "metadata": {
      "tags": []
     },
     "output_type": "execute_result"
    },
    {
     "data": {
      "image/png": "[encoded data removed]",
      "text/plain": [
       "<Figure size 432x288 with 1 Axes>"
      ]
     },
     "metadata": {
      "needs_background": "light",
      "tags": []
     },
     "output_type": "display_data"
    }
   ],
   "source": [
    "train_set = torchvision.datasets.MNIST(root='', train=True, download=True, transform=transforms.ToTensor())\n",
    "test_set = torchvision.datasets.MNIST(root='', train=False, download=True, transform=transforms.ToTensor())\n",
    "\n",
    "num_classes = len(train_set)\n",
    "\n",
    "img = np.asarray(train_set[0][0][0])\n",
    "plt.imshow(img, cmap='gray')"
   ]
  },
  {
   "cell_type": "code",
   "execution_count": 0,
   "metadata": {
    "colab": {},
    "colab_type": "code",
    "id": "R1gResX1EcA5"
   },
   "outputs": [],
   "source": [
    "class MnistDataset(Dataset):\n",
    "  def __init__(self, train_set, transforms=None, preprocessing=None):\n",
    "    super(MnistDataset, self).__init__()\n",
    "    self.x_train = train_set.data[:, np.newaxis, :, :].float()\n",
    "    self.y_train = train_set.targets\n",
    "    self.transforms = transforms\n",
    "    self.preprocessing = preprocessing\n",
    "\n",
    "\n",
    "  def __getitem__(self, idx):\n",
    "    x = self.x_train[idx]\n",
    "    y = self.y_train[idx]\n",
    "\n",
    "    if self.transforms:\n",
    "      x = self.transforms(image = x.numpy())\n",
    "      x = x['image']\n",
    "\n",
    "    return x, y\n",
    "\n",
    "\n",
    "  def __len__(self):\n",
    "    return len(self.x_train)"
   ]
  },
  {
   "cell_type": "code",
   "execution_count": 0,
   "metadata": {
    "colab": {},
    "colab_type": "code",
    "id": "k-XVDzs3oXF5"
   },
   "outputs": [],
   "source": [
    "def batch_norm(x_batch):\n",
    "  # Normalizes batch data and makes it ready for the model input\n",
    "\n",
    "  std, mean = torch.std_mean(x_batch.float())\n",
    "\n",
    "  for i in range(len(x_batch)):\n",
    "    x_batch[i] = ((x_batch[i] - mean) / (std + 1e-8))\n",
    "\n",
    "  return x_batch[:, np.newaxis, :, :].float()"
   ]
  },
  {
   "cell_type": "code",
   "execution_count": 0,
   "metadata": {
    "colab": {},
    "colab_type": "code",
    "id": "uXzvNGe5E6fo"
   },
   "outputs": [],
   "source": [
    "# Creates MNIST Dataset\n",
    "mnist_train_dataset = MnistDataset(train_set)\n",
    "\n",
    "# Creates MNIST Dataloader by the instance of MNIST Dataset above\n",
    "mnist_train_dataloader = DataLoader(mnist_train_dataset, batch_size=MNIST_BATCH_SIZE, shuffle=True, num_workers=4)"
   ]
  },
  {
   "cell_type": "markdown",
   "metadata": {
    "colab_type": "text",
    "id": "ZL46LiOuWLl6"
   },
   "source": [
    "# **Focal Loss Function**"
   ]
  },
  {
   "cell_type": "code",
   "execution_count": 0,
   "metadata": {
    "colab": {},
    "colab_type": "code",
    "id": "kt1fIDKE1O3_"
   },
   "outputs": [],
   "source": [
    "def focal_loss(y_lbl, y_pred, gamma=2):\n",
    "  # y_lbl is a tensor which includes the the existing probabilities' labels [0, 0, ... , 1, 0, ..., n]\n",
    "  # y_pred is a tensor which includes a model probabilities' predictions\n",
    "  # y_pred should be passed to this function AFTER any probability manupulation, for instance, a softmax manipulation\n",
    "  assert len(y_lbl) == len(y_pred), \"Incompatible lengths: len(y_lbl)=\" + str(len(y_lbl)) + \", len(y_pred)=\" + str(len(y_pred))\n",
    "\n",
    "  sum = 0\n",
    "  for i in range(len(y_lbl)):\n",
    "    if y_lbl[i] == 1:\n",
    "      p = y_pred[i]\n",
    "    else:\n",
    "      p = 1 - y_pred[i]\n",
    "    sum -= (((1 - p) ** gamma) * math.log(p))\n",
    "\n",
    "  return sum / len(y_lbl)"
   ]
  },
  {
   "cell_type": "code",
   "execution_count": 0,
   "metadata": {
    "colab": {},
    "colab_type": "code",
    "id": "5oScdxu6LOU4"
   },
   "outputs": [],
   "source": [
    "# Focal lost for a batch of images\n",
    "def batch_focal_loss(preds, y, gamma=2):\n",
    "  assert len(preds) == len(y), \"Incompatible lengths: len(preds)=\" + str(len(preds)) + \", len(y)=\" + str(len(y))\n",
    "\n",
    "  y_temp = torch.zeros([len(y), NUM_CLASSES], dtype=torch.float32)\n",
    "  for i in range(len(y)):\n",
    "    y_temp[i][y[i]] = 1 \n",
    "\n",
    "  return reduce(lambda x, y: x + y, [focal_loss(lbl, pred) for lbl, pred in zip(y_temp, preds)]) / len(y)"
   ]
  },
  {
   "cell_type": "code",
   "execution_count": 121,
   "metadata": {
    "colab": {
     "base_uri": "https://localhost:8080/",
     "height": 67
    },
    "colab_type": "code",
    "id": "YCzkWA1S_ApU",
    "outputId": "697428b9-d028-48e5-9875-ad45796c410f"
   },
   "outputs": [
    {
     "name": "stdout",
     "output_type": "stream",
     "text": [
      "0.0041955216868125485\n",
      "0.8799942212215676\n",
      "0.626114010941354\n"
     ]
    }
   ],
   "source": [
    "# Good prediction example\n",
    "\n",
    "y_pred = [0.1, 0.2, 0.9, 0.15, 0.03, 0.11, 0.001, 0.02, 0.28, 0.04]\n",
    "y_lbl = [0, 0, 1, 0, 0, 0, 0, 0, 0, 0]\n",
    "print(focal_loss(y_lbl, y_pred))\n",
    "\n",
    "\n",
    "# Bad prefiction examples\n",
    "\n",
    "y_lbl[2], y_lbl[6] = 0, 1\n",
    "print(focal_loss(y_lbl, y_pred))\n",
    "\n",
    "y_pred = [0.5, 0.3, 0.9, 0.15, 0.8, 0.75, 0.2, 0.1, 0.6, 0.5]\n",
    "y_lbl = [0, 0, 0, 0, 0, 0, 0, 1, 0, 0]\n",
    "print(focal_loss(y_lbl, y_pred))"
   ]
  },
  {
   "cell_type": "markdown",
   "metadata": {
    "colab_type": "text",
    "id": "gfzUp40NWeUX"
   },
   "source": [
    "# **LeNet Model**"
   ]
  },
  {
   "cell_type": "code",
   "execution_count": 0,
   "metadata": {
    "colab": {},
    "colab_type": "code",
    "id": "HYPbWnsEdkd_"
   },
   "outputs": [],
   "source": [
    "class Convolution_Model(nn.Module):\n",
    "  def __init__(self):\n",
    "    super(Convolution_Model, self).__init__()\n",
    "    \n",
    "    self.conv1 = nn.Conv2d(1, 7, 5)\n",
    "    self.conv2 = nn.Conv2d(7, 16, 5)\n",
    "\n",
    "    self.fc1 = nn.Linear(in_features=16, out_features=120)\n",
    "    self.fc2 = nn.Linear(in_features=120, out_features=84)\n",
    "    self.fc3 = nn.Linear(in_features=84, out_features=10)\n",
    "\n",
    "\n",
    "  def forward(self, x):\n",
    "    x = self.conv1(x)\n",
    "    x = F.relu(x)\n",
    "    x = F.max_pool2d(x, 3)\n",
    "\n",
    "    x = self.conv2(x)\n",
    "    x = F.relu(x)\n",
    "    x = F.max_pool2d(x, 3)\n",
    "\n",
    "    x = x.view(x.shape[0], -1)\n",
    "    x = self.fc1(x)\n",
    "    x = F.relu(x)\n",
    "\n",
    "    x = self.fc2(x)\n",
    "    x = F.relu(x)\n",
    "\n",
    "    x = self.fc3(x)\n",
    "    x = F.relu(x)\n",
    "\n",
    "    x = F.softmax(x, dim=1)\n",
    "    return x"
   ]
  },
  {
   "cell_type": "code",
   "execution_count": 0,
   "metadata": {
    "colab": {},
    "colab_type": "code",
    "id": "hZXbKSA0aHhk"
   },
   "outputs": [],
   "source": [
    "def batch_accuracy(y, pred):\n",
    "  # Calculates accuracy for a given batch of data\n",
    "  \n",
    "  assert len(y) == len(pred), \"Incompatible lengths: len(y)=\" + str(len(y)) + \", len(y_pred)=\" + str(len(pred))\n",
    "\n",
    "  true_preds = 0\n",
    "  for i in range(len(y)):\n",
    "    if torch.max(pred) == pred[i][y[i]]:\n",
    "      true_preds += 1\n",
    "  \n",
    "  return true_preds / len(y)"
   ]
  },
  {
   "cell_type": "code",
   "execution_count": 0,
   "metadata": {
    "colab": {},
    "colab_type": "code",
    "id": "-3KaTP8nDW3A"
   },
   "outputs": [],
   "source": [
    "# Training the model \n",
    "def train(model, optimizer, dataloader, num_epochs=10, loss=nn.CrossEntropyLoss()):\n",
    "  convergence_lst = list()\n",
    "  accuracy_lst = list()\n",
    "\n",
    "  for epoch in range(num_epochs):\n",
    "    i = 0\n",
    "    print(\"********** epoch no' \" + str(epoch + 1) + \" from \" + str(num_epochs) + \" **********\")\n",
    "\n",
    "    for data in dataloader:\n",
    "      x, y = data\n",
    "\n",
    "      # zero the gradients after updating\n",
    "      optimizer.zero_grad()\n",
    "\n",
    "      # y prediction = forward pass with our model\n",
    "      y_pred = model(x)\n",
    "\n",
    "      # loss\n",
    "      l = loss(y_pred, y)\n",
    "      convergence_lst.append(l)\n",
    "      ac = batch_accuracy(y, y_pred)\n",
    "      accuracy_lst.append(ac)     \n",
    "\n",
    "      # calculate gradients = backward pass\n",
    "      l.backward()\n",
    "\n",
    "      # update weights\n",
    "      optimizer.step()\n",
    "\n",
    "      i += 1\n",
    "      if i % 100 == 0:\n",
    "        print(str(i) + \" from \" + str(len(dataloader)) + \": current batch accuracy=\" + str(ac) + \" loss=\" + str(l))\n",
    "\n",
    "  return convergence_lst, accuracy_lst"
   ]
  },
  {
   "cell_type": "code",
   "execution_count": 134,
   "metadata": {
    "colab": {
     "base_uri": "https://localhost:8080/",
     "height": 857
    },
    "colab_type": "code",
    "id": "Kq4MYgdyFzX2",
    "outputId": "39cbe1df-61bb-4fd1-c865-ed1e257e28f4"
   },
   "outputs": [
    {
     "name": "stdout",
     "output_type": "stream",
     "text": [
      "********** epoch no' 1 from 10 **********\n",
      "100 from 469: current batch accuracy=0.0078125 loss=tensor(2.0877, grad_fn=<NllLossBackward>)\n",
      "200 from 469: current batch accuracy=0.0078125 loss=tensor(1.9908, grad_fn=<NllLossBackward>)\n",
      "300 from 469: current batch accuracy=0.1171875 loss=tensor(1.9848, grad_fn=<NllLossBackward>)\n",
      "400 from 469: current batch accuracy=0.1875 loss=tensor(1.9443, grad_fn=<NllLossBackward>)\n",
      "********** epoch no' 2 from 10 **********\n",
      "100 from 469: current batch accuracy=0.109375 loss=tensor(1.9598, grad_fn=<NllLossBackward>)\n",
      "200 from 469: current batch accuracy=0.1953125 loss=tensor(1.8147, grad_fn=<NllLossBackward>)\n",
      "300 from 469: current batch accuracy=0.296875 loss=tensor(1.8720, grad_fn=<NllLossBackward>)\n",
      "400 from 469: current batch accuracy=0.328125 loss=tensor(1.7978, grad_fn=<NllLossBackward>)\n",
      "********** epoch no' 3 from 10 **********\n",
      "100 from 469: current batch accuracy=0.359375 loss=tensor(1.7589, grad_fn=<NllLossBackward>)\n",
      "200 from 469: current batch accuracy=0.3984375 loss=tensor(1.7874, grad_fn=<NllLossBackward>)\n",
      "300 from 469: current batch accuracy=0.3984375 loss=tensor(1.6928, grad_fn=<NllLossBackward>)\n",
      "400 from 469: current batch accuracy=0.6484375 loss=tensor(1.6140, grad_fn=<NllLossBackward>)\n",
      "********** epoch no' 4 from 10 **********\n",
      "100 from 469: current batch accuracy=0.7421875 loss=tensor(1.5703, grad_fn=<NllLossBackward>)\n",
      "200 from 469: current batch accuracy=0.765625 loss=tensor(1.5783, grad_fn=<NllLossBackward>)\n",
      "300 from 469: current batch accuracy=0.6640625 loss=tensor(1.6792, grad_fn=<NllLossBackward>)\n",
      "400 from 469: current batch accuracy=0.71875 loss=tensor(1.6215, grad_fn=<NllLossBackward>)\n",
      "********** epoch no' 5 from 10 **********\n",
      "100 from 469: current batch accuracy=0.765625 loss=tensor(1.5813, grad_fn=<NllLossBackward>)\n",
      "200 from 469: current batch accuracy=0.734375 loss=tensor(1.5553, grad_fn=<NllLossBackward>)\n",
      "300 from 469: current batch accuracy=0.765625 loss=tensor(1.6118, grad_fn=<NllLossBackward>)\n",
      "400 from 469: current batch accuracy=0.7265625 loss=tensor(1.6498, grad_fn=<NllLossBackward>)\n",
      "********** epoch no' 6 from 10 **********\n",
      "100 from 469: current batch accuracy=0.7734375 loss=tensor(1.5838, grad_fn=<NllLossBackward>)\n",
      "200 from 469: current batch accuracy=0.78125 loss=tensor(1.5931, grad_fn=<NllLossBackward>)\n",
      "300 from 469: current batch accuracy=0.765625 loss=tensor(1.5763, grad_fn=<NllLossBackward>)\n",
      "400 from 469: current batch accuracy=0.8359375 loss=tensor(1.5564, grad_fn=<NllLossBackward>)\n",
      "********** epoch no' 7 from 10 **********\n",
      "100 from 469: current batch accuracy=0.7734375 loss=tensor(1.5890, grad_fn=<NllLossBackward>)\n",
      "200 from 469: current batch accuracy=0.8671875 loss=tensor(1.5263, grad_fn=<NllLossBackward>)\n",
      "300 from 469: current batch accuracy=0.828125 loss=tensor(1.5722, grad_fn=<NllLossBackward>)\n",
      "400 from 469: current batch accuracy=0.8046875 loss=tensor(1.5756, grad_fn=<NllLossBackward>)\n",
      "********** epoch no' 8 from 10 **********\n",
      "100 from 469: current batch accuracy=0.8125 loss=tensor(1.5754, grad_fn=<NllLossBackward>)\n",
      "200 from 469: current batch accuracy=0.8203125 loss=tensor(1.5815, grad_fn=<NllLossBackward>)\n",
      "300 from 469: current batch accuracy=0.828125 loss=tensor(1.5831, grad_fn=<NllLossBackward>)\n",
      "400 from 469: current batch accuracy=0.7578125 loss=tensor(1.6497, grad_fn=<NllLossBackward>)\n",
      "********** epoch no' 9 from 10 **********\n",
      "100 from 469: current batch accuracy=0.90625 loss=tensor(1.4770, grad_fn=<NllLossBackward>)\n",
      "200 from 469: current batch accuracy=0.921875 loss=tensor(1.4887, grad_fn=<NllLossBackward>)\n",
      "300 from 469: current batch accuracy=0.9453125 loss=tensor(1.4913, grad_fn=<NllLossBackward>)\n",
      "400 from 469: current batch accuracy=0.90625 loss=tensor(1.5111, grad_fn=<NllLossBackward>)\n",
      "********** epoch no' 10 from 10 **********\n",
      "100 from 469: current batch accuracy=0.9296875 loss=tensor(1.4849, grad_fn=<NllLossBackward>)\n",
      "200 from 469: current batch accuracy=0.953125 loss=tensor(1.4769, grad_fn=<NllLossBackward>)\n",
      "300 from 469: current batch accuracy=0.9375 loss=tensor(1.4928, grad_fn=<NllLossBackward>)\n",
      "400 from 469: current batch accuracy=0.9375 loss=tensor(1.4851, grad_fn=<NllLossBackward>)\n"
     ]
    }
   ],
   "source": [
    "# Define the model\n",
    "model = Convolution_Model()\n",
    "\n",
    "# Optimizers\n",
    "adam_optim = torch.optim.Adam(model.parameters())\n",
    "radam_optim = mylib1.RAdam(model.parameters())\n",
    "sgd_optim = torch.optim.SGD(model.parameters(), lr=0.01)\n",
    "\n",
    "convergence_lst, accuracy_lst = train(model, adam_optim, mnist_train_dataloader)"
   ]
  },
  {
   "cell_type": "code",
   "execution_count": 135,
   "metadata": {
    "colab": {
     "base_uri": "https://localhost:8080/",
     "height": 281
    },
    "colab_type": "code",
    "id": "zJhMh8c5DvZ7",
    "outputId": "19830ac2-0b05-47d7-b467-786ba2d52883"
   },
   "outputs": [
    {
     "data": {
      "image/png": "[encoded data removed]",
      "text/plain": [
       "<Figure size 432x288 with 2 Axes>"
      ]
     },
     "metadata": {
      "needs_background": "light",
      "tags": []
     },
     "output_type": "display_data"
    }
   ],
   "source": [
    "plt.figure()\n",
    "\n",
    "plt.subplot(1, 2, 1)\n",
    "plt.title(\"accuracy\")\n",
    "plt.plot(np.array(accuracy_lst), 'r')\n",
    "\n",
    "plt.subplot(1, 2, 2)\n",
    "plt.title(\"lost\")\n",
    "plt.plot(np.array(convergence_lst), 'r')\n",
    "\n",
    "plt.show()"
   ]
  },
  {
   "cell_type": "markdown",
   "metadata": {
    "colab_type": "text",
    "id": "0xf4G2iPcbTM"
   },
   "source": [
    "# **MNIST Test Dataset and Dataloader**"
   ]
  },
  {
   "cell_type": "code",
   "execution_count": 0,
   "metadata": {
    "colab": {},
    "colab_type": "code",
    "id": "TfLf58WBcn4c"
   },
   "outputs": [],
   "source": [
    "# Creates MNIST Dataset\n",
    "mnist_test_dataset = MnistDataset(test_set)\n",
    "\n",
    "# Creates MNIST Dataloader by the instance of MNIST Dataset above\n",
    "mnist_test_dataloader = DataLoader(mnist_test_dataset, batch_size=MNIST_BATCH_SIZE, shuffle=True, num_workers=4)"
   ]
  },
  {
   "cell_type": "markdown",
   "metadata": {
    "colab_type": "text",
    "id": "fxiq69UY9dHh"
   },
   "source": [
    "# **Prediction Of Test Samples**"
   ]
  },
  {
   "cell_type": "code",
   "execution_count": 0,
   "metadata": {
    "colab": {},
    "colab_type": "code",
    "id": "MwVYhC9HhjcB"
   },
   "outputs": [],
   "source": [
    "def predict(model, dataloader, pred_num):\n",
    "  i = 0\n",
    "  confusion_mat = np.zeros((NUM_CLASSES, NUM_CLASSES))\n",
    "\n",
    "  for data in dataloader:\n",
    "    x, y = data\n",
    "\n",
    "    # y prediction = forward pass with our model\n",
    "    y_pred = model.forward(x)\n",
    "\n",
    "    for j in range(len(y)):\n",
    "      confusion_mat[y[j]][np.where(y_pred[j] == max(y_pred[j]))] += 1\n",
    "\n",
    "    print(\"\\n********** Real_Values **********\")\n",
    "    print(y)\n",
    "\n",
    "    print(\"\\n********** Predictions **********\")\n",
    "    print(y_pred)\n",
    "\n",
    "    i += 1\n",
    "    if i >= pred_num:\n",
    "      break\n",
    "    \n",
    "  return confusion_mat"
   ]
  },
  {
   "cell_type": "code",
   "execution_count": 174,
   "metadata": {
    "colab": {
     "base_uri": "https://localhost:8080/",
     "height": 1000
    },
    "colab_type": "code",
    "id": "JWuhmbaQeAFE",
    "outputId": "6e6fa095-d54d-4a3c-a3ca-722d8cd2f5f0"
   },
   "outputs": [
    {
     "name": "stdout",
     "output_type": "stream",
     "text": [
      "\n",
      "********** Real_Values **********\n",
      "tensor([0, 4, 8, 9, 3, 3, 7, 9, 8, 9, 4, 2, 4, 8, 4, 0, 7, 4, 1, 7, 6, 6, 8, 2,\n",
      "        7, 0, 6, 9, 8, 9, 3, 3, 3, 3, 8, 3, 2, 1, 8, 2, 5, 0, 0, 4, 0, 9, 2, 4,\n",
      "        4, 6, 8, 2, 7, 2, 2, 7, 6, 2, 7, 1, 7, 8, 8, 2, 5, 8, 2, 8, 3, 1, 8, 4,\n",
      "        7, 3, 4, 8, 7, 8, 6, 3, 1, 7, 9, 6, 4, 7, 1, 2, 2, 9, 2, 5, 6, 6, 6, 9,\n",
      "        1, 0, 3, 7, 8, 0, 3, 0, 7, 9, 7, 7, 0, 7, 8, 6, 0, 6, 0, 5, 1, 9, 1, 1,\n",
      "        1, 0, 6, 0, 3, 0, 7, 2])\n",
      "\n",
      "********** Predictions **********\n",
      "tensor([[1.0000e+00, 4.0918e-43, 6.8878e-37,  ..., 4.0918e-43, 4.0918e-43,\n",
      "         1.8827e-40],\n",
      "        [0.0000e+00, 2.4527e-41, 7.0065e-45,  ..., 0.0000e+00, 0.0000e+00,\n",
      "         0.0000e+00],\n",
      "        [5.9870e-16, 6.0675e-14, 5.9870e-16,  ..., 8.9753e-13, 9.9910e-01,\n",
      "         1.0151e-14],\n",
      "        ...,\n",
      "        [1.0000e+00, 2.8709e-36, 4.0045e-29,  ..., 2.8709e-36, 2.5567e-35,\n",
      "         9.6875e-36],\n",
      "        [0.0000e+00, 0.0000e+00, 0.0000e+00,  ..., 1.0000e+00, 0.0000e+00,\n",
      "         0.0000e+00],\n",
      "        [4.1478e-43, 1.6102e-35, 1.0000e+00,  ..., 4.1478e-43, 7.0304e-38,\n",
      "         4.1478e-43]], grad_fn=<SoftmaxBackward>)\n",
      "\n",
      "********** Real_Values **********\n",
      "tensor([5, 0, 4, 8, 9, 7, 5, 6, 2, 5, 3, 5, 1, 6, 7, 1, 1, 0, 1, 7, 1, 1, 1, 6,\n",
      "        2, 5, 1, 7, 7, 8, 8, 3, 3, 4, 5, 2, 1, 9, 1, 9, 1, 6, 0, 3, 3, 8, 8, 2,\n",
      "        5, 8, 3, 3, 9, 0, 9, 5, 5, 9, 3, 4, 7, 9, 7, 1, 3, 7, 9, 9, 1, 0, 0, 0,\n",
      "        9, 0, 1, 3, 8, 3, 6, 6, 1, 4, 0, 1, 5, 1, 5, 9, 1, 6, 4, 5, 1, 9, 8, 7,\n",
      "        7, 6, 9, 3, 6, 5, 1, 1, 3, 8, 0, 8, 1, 3, 6, 9, 1, 7, 0, 8, 1, 6, 6, 9,\n",
      "        1, 4, 8, 9, 6, 3, 2, 9])\n",
      "\n",
      "********** Predictions **********\n",
      "tensor([[0.0000e+00, 0.0000e+00, 0.0000e+00,  ..., 0.0000e+00, 0.0000e+00,\n",
      "         0.0000e+00],\n",
      "        [1.0000e+00, 0.0000e+00, 1.0238e-36,  ..., 0.0000e+00, 0.0000e+00,\n",
      "         1.2191e-43],\n",
      "        [4.1793e-09, 4.1793e-09, 4.7920e-05,  ..., 4.1793e-09, 2.6674e-08,\n",
      "         6.3355e-08],\n",
      "        ...,\n",
      "        [1.7511e-23, 2.5748e-13, 1.2060e-10,  ..., 2.8156e-23, 2.3708e-18,\n",
      "         1.7511e-23],\n",
      "        [0.0000e+00, 0.0000e+00, 1.0000e+00,  ..., 0.0000e+00, 0.0000e+00,\n",
      "         0.0000e+00],\n",
      "        [2.4099e-22, 2.4099e-22, 2.4099e-22,  ..., 2.4099e-22, 9.9999e-01,\n",
      "         8.5385e-06]], grad_fn=<SoftmaxBackward>)\n",
      "\n",
      "********** Real_Values **********\n",
      "tensor([7, 5, 0, 5, 8, 3, 0, 1, 2, 6, 5, 0, 0, 5, 5, 0, 9, 9, 8, 4, 9, 3, 3, 9,\n",
      "        5, 8, 3, 7, 2, 0, 1, 7, 1, 1, 0, 5, 0, 1, 2, 2, 0, 9, 0, 8, 6, 8, 2, 4,\n",
      "        3, 2, 9, 0, 5, 9, 5, 7, 4, 4, 6, 6, 2, 5, 8, 8, 1, 4, 8, 5, 9, 6, 9, 1,\n",
      "        7, 5, 7, 9, 7, 9, 8, 7, 4, 8, 1, 5, 3, 8, 5, 1, 3, 9, 4, 2, 8, 2, 1, 9,\n",
      "        7, 4, 6, 7, 8, 0, 6, 9, 8, 2, 0, 3, 6, 8, 7, 1, 7, 5, 0, 6, 3, 6, 0, 0,\n",
      "        2, 5, 6, 4, 3, 1, 0, 1])\n",
      "\n",
      "********** Predictions **********\n",
      "tensor([[0.0000e+00, 0.0000e+00, 0.0000e+00,  ..., 1.0000e+00, 0.0000e+00,\n",
      "         0.0000e+00],\n",
      "        [0.0000e+00, 0.0000e+00, 0.0000e+00,  ..., 0.0000e+00, 0.0000e+00,\n",
      "         0.0000e+00],\n",
      "        [1.0000e+00, 2.2844e-21, 2.2136e-16,  ..., 2.2844e-21, 1.1764e-16,\n",
      "         2.2844e-21],\n",
      "        ...,\n",
      "        [2.7941e-30, 1.0000e+00, 2.7941e-30,  ..., 2.7941e-30, 2.7941e-30,\n",
      "         2.7941e-30],\n",
      "        [1.0000e+00, 5.7511e-23, 9.3112e-22,  ..., 5.7511e-23, 3.1617e-20,\n",
      "         5.7511e-23],\n",
      "        [7.3202e-22, 1.0000e+00, 1.1902e-20,  ..., 1.0370e-22, 1.0370e-22,\n",
      "         1.0370e-22]], grad_fn=<SoftmaxBackward>)\n"
     ]
    }
   ],
   "source": [
    "confusion_mat = predict(model, mnist_test_dataloader, 3)"
   ]
  },
  {
   "cell_type": "code",
   "execution_count": 0,
   "metadata": {
    "colab": {},
    "colab_type": "code",
    "id": "Wz-j0vrY3aYf"
   },
   "outputs": [],
   "source": [
    "def print_confusion_mat(confusion_mat):\n",
    "  for i in range(confusion_mat.shape[0]):\n",
    "    print()\n",
    "    \n",
    "    for j in range(confusion_mat.shape[1]):\n",
    "      print(str(confusion_mat[i][j]), end=\"\\t\")"
   ]
  },
  {
   "cell_type": "code",
   "execution_count": 176,
   "metadata": {
    "colab": {
     "base_uri": "https://localhost:8080/",
     "height": 202
    },
    "colab_type": "code",
    "id": "rcp4rjcQ8vaH",
    "outputId": "6de14504-4e5f-4dd9-ce55-76c4535567f3"
   },
   "outputs": [
    {
     "name": "stdout",
     "output_type": "stream",
     "text": [
      "\n",
      "41.0\t0.0\t1.0\t0.0\t0.0\t0.0\t0.0\t1.0\t0.0\t0.0\t\n",
      "0.0\t49.0\t0.0\t0.0\t0.0\t0.0\t0.0\t0.0\t0.0\t0.0\t\n",
      "0.0\t0.0\t30.0\t0.0\t0.0\t0.0\t0.0\t1.0\t0.0\t0.0\t\n",
      "0.0\t0.0\t0.0\t37.0\t0.0\t1.0\t0.0\t0.0\t0.0\t0.0\t\n",
      "0.0\t0.0\t0.0\t0.0\t24.0\t0.0\t1.0\t0.0\t0.0\t1.0\t\n",
      "0.0\t0.0\t0.0\t0.0\t0.0\t33.0\t0.0\t0.0\t0.0\t0.0\t\n",
      "0.0\t0.0\t0.0\t0.0\t0.0\t0.0\t37.0\t0.0\t0.0\t0.0\t\n",
      "0.0\t0.0\t0.0\t0.0\t0.0\t0.0\t0.0\t41.0\t0.0\t0.0\t\n",
      "0.0\t0.0\t0.0\t0.0\t0.0\t0.0\t0.0\t1.0\t43.0\t0.0\t\n",
      "0.0\t0.0\t0.0\t0.0\t0.0\t0.0\t0.0\t0.0\t1.0\t41.0\t"
     ]
    }
   ],
   "source": [
    "print_confusion_mat(confusion_mat)"
   ]
  }
 ],
 "metadata": {
  "colab": {
   "collapsed_sections": [],
   "name": "Eylon_lab7.ipynb",
   "provenance": [],
   "toc_visible": true
  },
  "kernelspec": {
   "display_name": "Python 3",
   "language": "python",
   "name": "python3"
  },
  "language_info": {
   "codemirror_mode": {
    "name": "ipython",
    "version": 3
   },
   "file_extension": ".py",
   "mimetype": "text/x-python",
   "name": "python",
   "nbconvert_exporter": "python",
   "pygments_lexer": "ipython3",
   "version": "3.7.4"
  }
 },
 "nbformat": 4,
 "nbformat_minor": 1
}
