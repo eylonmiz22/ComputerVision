{
 "cells": [
  {
   "cell_type": "markdown",
   "metadata": {
    "colab_type": "text",
    "id": "IPyYUS4LV1Bw"
   },
   "source": [
    "# **Imports**"
   ]
  },
  {
   "cell_type": "code",
   "execution_count": 0,
   "metadata": {
    "colab": {},
    "colab_type": "code",
    "id": "2IFu2-mVNqMr"
   },
   "outputs": [],
   "source": [
    "import torchvision\n",
    "import torchvision.datasets as dset\n",
    "import torchvision.transforms as transforms\n",
    "import numpy as np\n",
    "import math  \n",
    "import torch\n",
    "import torch.nn as nn\n",
    "import torch.nn.functional as F\n",
    "\n",
    "from matplotlib import pyplot as plt\n",
    "from torch.utils.data import Dataset, DataLoader\n",
    "from functools import reduce\n",
    "\n",
    "%matplotlib inline\n",
    "\n",
    "# Consts\n",
    "MNIST_BATCH_SIZE = 128\n",
    "NUM_CLASSES = 10"
   ]
  },
  {
   "cell_type": "markdown",
   "metadata": {
    "colab_type": "text",
    "id": "UfxHGQRRZIVu"
   },
   "source": [
    "# **Import RAdam**"
   ]
  },
  {
   "cell_type": "code",
   "execution_count": 2,
   "metadata": {
    "colab": {
     "base_uri": "https://localhost:8080/",
     "height": 74,
     "resources": {
      "http://localhost:8080/nbextensions/google.colab/files.js": {
       "data": "Ly8gQ29weXJpZ2h0IDIwMTcgR29vZ2xlIExMQwovLwovLyBMaWNlbnNlZCB1bmRlciB0aGUgQXBhY2hlIExpY2Vuc2UsIFZlcnNpb24gMi4wICh0aGUgIkxpY2Vuc2UiKTsKLy8geW91IG1heSBub3QgdXNlIHRoaXMgZmlsZSBleGNlcHQgaW4gY29tcGxpYW5jZSB3aXRoIHRoZSBMaWNlbnNlLgovLyBZb3UgbWF5IG9idGFpbiBhIGNvcHkgb2YgdGhlIExpY2Vuc2UgYXQKLy8KLy8gICAgICBodHRwOi8vd3d3LmFwYWNoZS5vcmcvbGljZW5zZXMvTElDRU5TRS0yLjAKLy8KLy8gVW5sZXNzIHJlcXVpcmVkIGJ5IGFwcGxpY2FibGUgbGF3IG9yIGFncmVlZCB0byBpbiB3cml0aW5nLCBzb2Z0d2FyZQovLyBkaXN0cmlidXRlZCB1bmRlciB0aGUgTGljZW5zZSBpcyBkaXN0cmlidXRlZCBvbiBhbiAiQVMgSVMiIEJBU0lTLAovLyBXSVRIT1VUIFdBUlJBTlRJRVMgT1IgQ09ORElUSU9OUyBPRiBBTlkgS0lORCwgZWl0aGVyIGV4cHJlc3Mgb3IgaW1wbGllZC4KLy8gU2VlIHRoZSBMaWNlbnNlIGZvciB0aGUgc3BlY2lmaWMgbGFuZ3VhZ2UgZ292ZXJuaW5nIHBlcm1pc3Npb25zIGFuZAovLyBsaW1pdGF0aW9ucyB1bmRlciB0aGUgTGljZW5zZS4KCi8qKgogKiBAZmlsZW92ZXJ2aWV3IEhlbHBlcnMgZm9yIGdvb2dsZS5jb2xhYiBQeXRob24gbW9kdWxlLgogKi8KKGZ1bmN0aW9uKHNjb3BlKSB7CmZ1bmN0aW9uIHNwYW4odGV4dCwgc3R5bGVBdHRyaWJ1dGVzID0ge30pIHsKICBjb25zdCBlbGVtZW50ID0gZG9jdW1lbnQuY3JlYXRlRWxlbWVudCgnc3BhbicpOwogIGVsZW1lbnQudGV4dENvbnRlbnQgPSB0ZXh0OwogIGZvciAoY29uc3Qga2V5IG9mIE9iamVjdC5rZXlzKHN0eWxlQXR0cmlidXRlcykpIHsKICAgIGVsZW1lbnQuc3R5bGVba2V5XSA9IHN0eWxlQXR0cmlidXRlc1trZXldOwogIH0KICByZXR1cm4gZWxlbWVudDsKfQoKLy8gTWF4IG51bWJlciBvZiBieXRlcyB3aGljaCB3aWxsIGJlIHVwbG9hZGVkIGF0IGEgdGltZS4KY29uc3QgTUFYX1BBWUxPQURfU0laRSA9IDEwMCAqIDEwMjQ7Ci8vIE1heCBhbW91bnQgb2YgdGltZSB0byBibG9jayB3YWl0aW5nIGZvciB0aGUgdXNlci4KY29uc3QgRklMRV9DSEFOR0VfVElNRU9VVF9NUyA9IDMwICogMTAwMDsKCmZ1bmN0aW9uIF91cGxvYWRGaWxlcyhpbnB1dElkLCBvdXRwdXRJZCkgewogIGNvbnN0IHN0ZXBzID0gdXBsb2FkRmlsZXNTdGVwKGlucHV0SWQsIG91dHB1dElkKTsKICBjb25zdCBvdXRwdXRFbGVtZW50ID0gZG9jdW1lbnQuZ2V0RWxlbWVudEJ5SWQob3V0cHV0SWQpOwogIC8vIENhY2hlIHN0ZXBzIG9uIHRoZSBvdXRwdXRFbGVtZW50IHRvIG1ha2UgaXQgYXZhaWxhYmxlIGZvciB0aGUgbmV4dCBjYWxsCiAgLy8gdG8gdXBsb2FkRmlsZXNDb250aW51ZSBmcm9tIFB5dGhvbi4KICBvdXRwdXRFbGVtZW50LnN0ZXBzID0gc3RlcHM7CgogIHJldHVybiBfdXBsb2FkRmlsZXNDb250aW51ZShvdXRwdXRJZCk7Cn0KCi8vIFRoaXMgaXMgcm91Z2hseSBhbiBhc3luYyBnZW5lcmF0b3IgKG5vdCBzdXBwb3J0ZWQgaW4gdGhlIGJyb3dzZXIgeWV0KSwKLy8gd2hlcmUgdGhlcmUgYXJlIG11bHRpcGxlIGFzeW5jaHJvbm91cyBzdGVwcyBhbmQgdGhlIFB5dGhvbiBzaWRlIGlzIGdvaW5nCi8vIHRvIHBvbGwgZm9yIGNvbXBsZXRpb24gb2YgZWFjaCBzdGVwLgovLyBUaGlzIHVzZXMgYSBQcm9taXNlIHRvIGJsb2NrIHRoZSBweXRob24gc2lkZSBvbiBjb21wbGV0aW9uIG9mIGVhY2ggc3RlcCwKLy8gdGhlbiBwYXNzZXMgdGhlIHJlc3VsdCBvZiB0aGUgcHJldmlvdXMgc3RlcCBhcyB0aGUgaW5wdXQgdG8gdGhlIG5leHQgc3RlcC4KZnVuY3Rpb24gX3VwbG9hZEZpbGVzQ29udGludWUob3V0cHV0SWQpIHsKICBjb25zdCBvdXRwdXRFbGVtZW50ID0gZG9jdW1lbnQuZ2V0RWxlbWVudEJ5SWQob3V0cHV0SWQpOwogIGNvbnN0IHN0ZXBzID0gb3V0cHV0RWxlbWVudC5zdGVwczsKCiAgY29uc3QgbmV4dCA9IHN0ZXBzLm5leHQob3V0cHV0RWxlbWVudC5sYXN0UHJvbWlzZVZhbHVlKTsKICByZXR1cm4gUHJvbWlzZS5yZXNvbHZlKG5leHQudmFsdWUucHJvbWlzZSkudGhlbigodmFsdWUpID0+IHsKICAgIC8vIENhY2hlIHRoZSBsYXN0IHByb21pc2UgdmFsdWUgdG8gbWFrZSBpdCBhdmFpbGFibGUgdG8gdGhlIG5leHQKICAgIC8vIHN0ZXAgb2YgdGhlIGdlbmVyYXRvci4KICAgIG91dHB1dEVsZW1lbnQubGFzdFByb21pc2VWYWx1ZSA9IHZhbHVlOwogICAgcmV0dXJuIG5leHQudmFsdWUucmVzcG9uc2U7CiAgfSk7Cn0KCi8qKgogKiBHZW5lcmF0b3IgZnVuY3Rpb24gd2hpY2ggaXMgY2FsbGVkIGJldHdlZW4gZWFjaCBhc3luYyBzdGVwIG9mIHRoZSB1cGxvYWQKICogcHJvY2Vzcy4KICogQHBhcmFtIHtzdHJpbmd9IGlucHV0SWQgRWxlbWVudCBJRCBvZiB0aGUgaW5wdXQgZmlsZSBwaWNrZXIgZWxlbWVudC4KICogQHBhcmFtIHtzdHJpbmd9IG91dHB1dElkIEVsZW1lbnQgSUQgb2YgdGhlIG91dHB1dCBkaXNwbGF5LgogKiBAcmV0dXJuIHshSXRlcmFibGU8IU9iamVjdD59IEl0ZXJhYmxlIG9mIG5leHQgc3RlcHMuCiAqLwpmdW5jdGlvbiogdXBsb2FkRmlsZXNTdGVwKGlucHV0SWQsIG91dHB1dElkKSB7CiAgY29uc3QgaW5wdXRFbGVtZW50ID0gZG9jdW1lbnQuZ2V0RWxlbWVudEJ5SWQoaW5wdXRJZCk7CiAgaW5wdXRFbGVtZW50LmRpc2FibGVkID0gZmFsc2U7CgogIGNvbnN0IG91dHB1dEVsZW1lbnQgPSBkb2N1bWVudC5nZXRFbGVtZW50QnlJZChvdXRwdXRJZCk7CiAgb3V0cHV0RWxlbWVudC5pbm5lckhUTUwgPSAnJzsKCiAgY29uc3QgcGlja2VkUHJvbWlzZSA9IG5ldyBQcm9taXNlKChyZXNvbHZlKSA9PiB7CiAgICBpbnB1dEVsZW1lbnQuYWRkRXZlbnRMaXN0ZW5lcignY2hhbmdlJywgKGUpID0+IHsKICAgICAgcmVzb2x2ZShlLnRhcmdldC5maWxlcyk7CiAgICB9KTsKICB9KTsKCiAgY29uc3QgY2FuY2VsID0gZG9jdW1lbnQuY3JlYXRlRWxlbWVudCgnYnV0dG9uJyk7CiAgaW5wdXRFbGVtZW50LnBhcmVudEVsZW1lbnQuYXBwZW5kQ2hpbGQoY2FuY2VsKTsKICBjYW5jZWwudGV4dENvbnRlbnQgPSAnQ2FuY2VsIHVwbG9hZCc7CiAgY29uc3QgY2FuY2VsUHJvbWlzZSA9IG5ldyBQcm9taXNlKChyZXNvbHZlKSA9PiB7CiAgICBjYW5jZWwub25jbGljayA9ICgpID0+IHsKICAgICAgcmVzb2x2ZShudWxsKTsKICAgIH07CiAgfSk7CgogIC8vIENhbmNlbCB1cGxvYWQgaWYgdXNlciBoYXNuJ3QgcGlja2VkIGFueXRoaW5nIGluIHRpbWVvdXQuCiAgY29uc3QgdGltZW91dFByb21pc2UgPSBuZXcgUHJvbWlzZSgocmVzb2x2ZSkgPT4gewogICAgc2V0VGltZW91dCgoKSA9PiB7CiAgICAgIHJlc29sdmUobnVsbCk7CiAgICB9LCBGSUxFX0NIQU5HRV9USU1FT1VUX01TKTsKICB9KTsKCiAgLy8gV2FpdCBmb3IgdGhlIHVzZXIgdG8gcGljayB0aGUgZmlsZXMuCiAgY29uc3QgZmlsZXMgPSB5aWVsZCB7CiAgICBwcm9taXNlOiBQcm9taXNlLnJhY2UoW3BpY2tlZFByb21pc2UsIHRpbWVvdXRQcm9taXNlLCBjYW5jZWxQcm9taXNlXSksCiAgICByZXNwb25zZTogewogICAgICBhY3Rpb246ICdzdGFydGluZycsCiAgICB9CiAgfTsKCiAgaWYgKCFmaWxlcykgewogICAgcmV0dXJuIHsKICAgICAgcmVzcG9uc2U6IHsKICAgICAgICBhY3Rpb246ICdjb21wbGV0ZScsCiAgICAgIH0KICAgIH07CiAgfQoKICBjYW5jZWwucmVtb3ZlKCk7CgogIC8vIERpc2FibGUgdGhlIGlucHV0IGVsZW1lbnQgc2luY2UgZnVydGhlciBwaWNrcyBhcmUgbm90IGFsbG93ZWQuCiAgaW5wdXRFbGVtZW50LmRpc2FibGVkID0gdHJ1ZTsKCiAgZm9yIChjb25zdCBmaWxlIG9mIGZpbGVzKSB7CiAgICBjb25zdCBsaSA9IGRvY3VtZW50LmNyZWF0ZUVsZW1lbnQoJ2xpJyk7CiAgICBsaS5hcHBlbmQoc3BhbihmaWxlLm5hbWUsIHtmb250V2VpZ2h0OiAnYm9sZCd9KSk7CiAgICBsaS5hcHBlbmQoc3BhbigKICAgICAgICBgKCR7ZmlsZS50eXBlIHx8ICduL2EnfSkgLSAke2ZpbGUuc2l6ZX0gYnl0ZXMsIGAgKwogICAgICAgIGBsYXN0IG1vZGlmaWVkOiAkewogICAgICAgICAgICBmaWxlLmxhc3RNb2RpZmllZERhdGUgPyBmaWxlLmxhc3RNb2RpZmllZERhdGUudG9Mb2NhbGVEYXRlU3RyaW5nKCkgOgogICAgICAgICAgICAgICAgICAgICAgICAgICAgICAgICAgICAnbi9hJ30gLSBgKSk7CiAgICBjb25zdCBwZXJjZW50ID0gc3BhbignMCUgZG9uZScpOwogICAgbGkuYXBwZW5kQ2hpbGQocGVyY2VudCk7CgogICAgb3V0cHV0RWxlbWVudC5hcHBlbmRDaGlsZChsaSk7CgogICAgY29uc3QgZmlsZURhdGFQcm9taXNlID0gbmV3IFByb21pc2UoKHJlc29sdmUpID0+IHsKICAgICAgY29uc3QgcmVhZGVyID0gbmV3IEZpbGVSZWFkZXIoKTsKICAgICAgcmVhZGVyLm9ubG9hZCA9IChlKSA9PiB7CiAgICAgICAgcmVzb2x2ZShlLnRhcmdldC5yZXN1bHQpOwogICAgICB9OwogICAgICByZWFkZXIucmVhZEFzQXJyYXlCdWZmZXIoZmlsZSk7CiAgICB9KTsKICAgIC8vIFdhaXQgZm9yIHRoZSBkYXRhIHRvIGJlIHJlYWR5LgogICAgbGV0IGZpbGVEYXRhID0geWllbGQgewogICAgICBwcm9taXNlOiBmaWxlRGF0YVByb21pc2UsCiAgICAgIHJlc3BvbnNlOiB7CiAgICAgICAgYWN0aW9uOiAnY29udGludWUnLAogICAgICB9CiAgICB9OwoKICAgIC8vIFVzZSBhIGNodW5rZWQgc2VuZGluZyB0byBhdm9pZCBtZXNzYWdlIHNpemUgbGltaXRzLiBTZWUgYi82MjExNTY2MC4KICAgIGxldCBwb3NpdGlvbiA9IDA7CiAgICB3aGlsZSAocG9zaXRpb24gPCBmaWxlRGF0YS5ieXRlTGVuZ3RoKSB7CiAgICAgIGNvbnN0IGxlbmd0aCA9IE1hdGgubWluKGZpbGVEYXRhLmJ5dGVMZW5ndGggLSBwb3NpdGlvbiwgTUFYX1BBWUxPQURfU0laRSk7CiAgICAgIGNvbnN0IGNodW5rID0gbmV3IFVpbnQ4QXJyYXkoZmlsZURhdGEsIHBvc2l0aW9uLCBsZW5ndGgpOwogICAgICBwb3NpdGlvbiArPSBsZW5ndGg7CgogICAgICBjb25zdCBiYXNlNjQgPSBidG9hKFN0cmluZy5mcm9tQ2hhckNvZGUuYXBwbHkobnVsbCwgY2h1bmspKTsKICAgICAgeWllbGQgewogICAgICAgIHJlc3BvbnNlOiB7CiAgICAgICAgICBhY3Rpb246ICdhcHBlbmQnLAogICAgICAgICAgZmlsZTogZmlsZS5uYW1lLAogICAgICAgICAgZGF0YTogYmFzZTY0LAogICAgICAgIH0sCiAgICAgIH07CiAgICAgIHBlcmNlbnQudGV4dENvbnRlbnQgPQogICAgICAgICAgYCR7TWF0aC5yb3VuZCgocG9zaXRpb24gLyBmaWxlRGF0YS5ieXRlTGVuZ3RoKSAqIDEwMCl9JSBkb25lYDsKICAgIH0KICB9CgogIC8vIEFsbCBkb25lLgogIHlpZWxkIHsKICAgIHJlc3BvbnNlOiB7CiAgICAgIGFjdGlvbjogJ2NvbXBsZXRlJywKICAgIH0KICB9Owp9CgpzY29wZS5nb29nbGUgPSBzY29wZS5nb29nbGUgfHwge307CnNjb3BlLmdvb2dsZS5jb2xhYiA9IHNjb3BlLmdvb2dsZS5jb2xhYiB8fCB7fTsKc2NvcGUuZ29vZ2xlLmNvbGFiLl9maWxlcyA9IHsKICBfdXBsb2FkRmlsZXMsCiAgX3VwbG9hZEZpbGVzQ29udGludWUsCn07Cn0pKHNlbGYpOwo=",
       "headers": [
        [
         "content-type",
         "application/javascript"
        ]
       ],
       "ok": true,
       "status": 200,
       "status_text": ""
      }
     }
    },
    "colab_type": "code",
    "id": "ymf2OJvBYwVJ",
    "outputId": "cbb1c973-945f-47d9-ec6d-04c5dedd3056"
   },
   "outputs": [
    {
     "data": {
      "text/html": [
       "\n",
       "     <input type=\"file\" id=\"files-8cd2873c-7f90-43ff-82a2-1f3b7c12d441\" name=\"files[]\" multiple disabled />\n",
       "     <output id=\"result-8cd2873c-7f90-43ff-82a2-1f3b7c12d441\">\n",
       "      Upload widget is only available when the cell has been executed in the\n",
       "      current browser session. Please rerun this cell to enable.\n",
       "      </output>\n",
       "      <script src=\"/nbextensions/google.colab/files.js\"></script> "
      ],
      "text/plain": [
       "<IPython.core.display.HTML object>"
      ]
     },
     "metadata": {
      "tags": []
     },
     "output_type": "display_data"
    },
    {
     "name": "stdout",
     "output_type": "stream",
     "text": [
      "Saving gitradam.py to gitradam.py\n"
     ]
    }
   ],
   "source": [
    "from google.colab import files\n",
    "src = list(files.upload().values())[0]\n",
    "open('mylib1.py','wb').write(src)\n",
    "import mylib1"
   ]
  },
  {
   "cell_type": "markdown",
   "metadata": {
    "colab_type": "text",
    "id": "d6ttnCPKG0ru"
   },
   "source": [
    "# **Image Helper Class**"
   ]
  },
  {
   "cell_type": "code",
   "execution_count": 0,
   "metadata": {
    "colab": {},
    "colab_type": "code",
    "id": "x_ZlYNjNG1n5"
   },
   "outputs": [],
   "source": [
    "class Image(object):\n",
    "  def __init__(self, path):\n",
    "    self.path = path\n",
    "\n",
    "    self.rgb_image = None\n",
    "    self.bgr_image = None\n",
    "    self.gray_image = None\n",
    "\n",
    "\n",
    "  def read_image(self, return_image = False):\n",
    "    self.rgb_image = plt.imread(self.path)\n",
    "    if return_image:\n",
    "      return self.rgb_image\n",
    "\n",
    "\n",
    "  def bgr(self, return_image = False):\n",
    "    self.bgr_image = np.flip(plt.imread(self.path), 2)\n",
    "    if return_image:\n",
    "      return self.bgr_image\n",
    "\n",
    "\n",
    "  def gray(self, return_image = False):\n",
    "    self.gray_image = cv2.cvtColor(plt.imread(self.path), cv2.COLOR_RGB2GRAY)\n",
    "    if return_image:\n",
    "      return self.gray_imagezoom_img\n",
    "\n",
    "\n",
    "  @staticmethod\n",
    "  def show(image, title = 'image'):\n",
    "    if len(image.shape) == 3:\n",
    "      plt.imshow(image)\n",
    "    else:\n",
    "      plt.imshow(image, cmap = 'gray')\n",
    "\n",
    "    plt.title(title)\n",
    "\n",
    "\n",
    "  @staticmethod\n",
    "  def show_all(image_list, title_list):\n",
    "    assert len(image_list) == len(title_list), \"Incompatible lengths of lists!\"\n",
    "    N = len(image_list)\n",
    "    plt.figure(figsize=[20, 20])\n",
    "\n",
    "    for i in range(N):\n",
    "      plt.subplot(1, N, i + 1)\n",
    "      Image.show(image_list[i], title_list[i])\n",
    "    \n",
    "    plt.show()"
   ]
  },
  {
   "cell_type": "markdown",
   "metadata": {
    "colab_type": "text",
    "id": "1FUXBB7AV6ga"
   },
   "source": [
    "# **MNIST Train Dataset and Dataloader**"
   ]
  },
  {
   "cell_type": "code",
   "execution_count": 4,
   "metadata": {
    "colab": {
     "base_uri": "https://localhost:8080/",
     "height": 682,
     "referenced_widgets": [
      "9711fadcef2d4ce49f6edce810dedfea",
      "78077ea5abe84de99f8c5e88ac7fa77c",
      "0a9a32c402df4917a04d4fee7144aecb",
      "042b2c6774d44f438f401e0e8295374b",
      "088d8ee358ae4393b133b8984a9bf3d4",
      "106fd44de3ef4ac09a74d165aa23bd54",
      "8b59088ce0a94802907f88f7e204aced",
      "1cb075a8ed0043f78e8c4a1a841ccf4b",
      "313fe9faf3bd4c14abf553b123264252",
      "a5d53904cfda44daaa0a8e997f926017",
      "1e3ff3472afc4ec18a133d092069e397",
      "6015823bb74d476cbbc38dd23af02eb6",
      "5b653657efef4e97bf90807aeece3ebe",
      "6b5f18f5266b479fb714e7866e361a52",
      "ac933c13c67841798f8afd46242a5a1f",
      "c9d87df0dae04bb589edbf5b4bbd72e0",
      "1810465d78e742968a0f24d76621ef2d",
      "537e5bfea49942b3b62c1ced1e7379e1",
      "0dba35f5ec6e4214938fac2107c72c56",
      "ae9b287471c74765910c25b71feb447d",
      "d2e79f84f1b7478dbab9298288491918",
      "c0f9e5f05cf74c37a40edaab81d315e8",
      "03b9fec6c2f84f0e8943f4cf8f408e71",
      "1bbec82e9e954e27a2e55c12c918d9ff",
      "fecd905fc9e8436e8bdb2d3f5c08cd84",
      "802319234e8e4b56aee7450e35d38e3c",
      "7110b1e56e0e450d9a2e9caa1af5b54f",
      "09db493c85a0475495273cbd8d1a223f",
      "069e2978a742455db96a898f56a9bf11",
      "a77b4b7f069d47dd970168baf8eb67b6",
      "b35cc7069ca841b2ae11108854f1b2c4",
      "56f96f0cafe545a49b6ce15eb7923dd7"
     ]
    },
    "colab_type": "code",
    "id": "e8NAvOnzr_hg",
    "outputId": "58b19a59-e66e-43d6-a01c-d2279956b74d"
   },
   "outputs": [
    {
     "name": "stdout",
     "output_type": "stream",
     "text": [
      "Downloading http://yann.lecun.com/exdb/mnist/train-images-idx3-ubyte.gz to MNIST/raw/train-images-idx3-ubyte.gz\n"
     ]
    },
    {
     "data": {
      "application/vnd.jupyter.widget-view+json": {
       "model_id": "9711fadcef2d4ce49f6edce810dedfea",
       "version_major": 2,
       "version_minor": 0
      },
      "text/plain": [
       "HBox(children=(FloatProgress(value=1.0, bar_style='info', max=1.0), HTML(value='')))"
      ]
     },
     "metadata": {
      "tags": []
     },
     "output_type": "display_data"
    },
    {
     "name": "stdout",
     "output_type": "stream",
     "text": [
      "Extracting MNIST/raw/train-images-idx3-ubyte.gz to MNIST/raw\n",
      "Downloading http://yann.lecun.com/exdb/mnist/train-labels-idx1-ubyte.gz to MNIST/raw/train-labels-idx1-ubyte.gz\n"
     ]
    },
    {
     "data": {
      "application/vnd.jupyter.widget-view+json": {
       "model_id": "313fe9faf3bd4c14abf553b123264252",
       "version_major": 2,
       "version_minor": 0
      },
      "text/plain": [
       "HBox(children=(FloatProgress(value=1.0, bar_style='info', max=1.0), HTML(value='')))"
      ]
     },
     "metadata": {
      "tags": []
     },
     "output_type": "display_data"
    },
    {
     "name": "stdout",
     "output_type": "stream",
     "text": [
      "Extracting MNIST/raw/train-labels-idx1-ubyte.gz to MNIST/raw\n",
      "Downloading http://yann.lecun.com/exdb/mnist/t10k-images-idx3-ubyte.gz to MNIST/raw/t10k-images-idx3-ubyte.gz\n",
      "\n"
     ]
    },
    {
     "data": {
      "application/vnd.jupyter.widget-view+json": {
       "model_id": "1810465d78e742968a0f24d76621ef2d",
       "version_major": 2,
       "version_minor": 0
      },
      "text/plain": [
       "HBox(children=(FloatProgress(value=1.0, bar_style='info', max=1.0), HTML(value='')))"
      ]
     },
     "metadata": {
      "tags": []
     },
     "output_type": "display_data"
    },
    {
     "name": "stdout",
     "output_type": "stream",
     "text": [
      "Extracting MNIST/raw/t10k-images-idx3-ubyte.gz to MNIST/raw\n",
      "Downloading http://yann.lecun.com/exdb/mnist/t10k-labels-idx1-ubyte.gz to MNIST/raw/t10k-labels-idx1-ubyte.gz\n"
     ]
    },
    {
     "data": {
      "application/vnd.jupyter.widget-view+json": {
       "model_id": "fecd905fc9e8436e8bdb2d3f5c08cd84",
       "version_major": 2,
       "version_minor": 0
      },
      "text/plain": [
       "HBox(children=(FloatProgress(value=1.0, bar_style='info', max=1.0), HTML(value='')))"
      ]
     },
     "metadata": {
      "tags": []
     },
     "output_type": "display_data"
    },
    {
     "name": "stdout",
     "output_type": "stream",
     "text": [
      "Extracting MNIST/raw/t10k-labels-idx1-ubyte.gz to MNIST/raw\n",
      "Processing...\n",
      "Done!\n",
      "\n"
     ]
    },
    {
     "name": "stderr",
     "output_type": "stream",
     "text": [
      "/pytorch/torch/csrc/utils/tensor_numpy.cpp:141: UserWarning: The given NumPy array is not writeable, and PyTorch does not support non-writeable tensors. This means you can write to the underlying (supposedly non-writeable) NumPy array using the tensor. You may want to copy the array to protect its data or make it writeable before converting it to a tensor. This type of warning will be suppressed for the rest of this program.\n"
     ]
    },
    {
     "data": {
      "text/plain": [
       "<matplotlib.image.AxesImage at 0x7f3a9c218b00>"
      ]
     },
     "execution_count": 4,
     "metadata": {
      "tags": []
     },
     "output_type": "execute_result"
    },
    {
     "data": {
      "image/png": "[encoded data removed]",
      "text/plain": [
       "<Figure size 432x288 with 1 Axes>"
      ]
     },
     "metadata": {
      "needs_background": "light",
      "tags": []
     },
     "output_type": "display_data"
    },
    {
     "name": "stdout",
     "output_type": "stream",
     "text": [
      "\n",
      "\n"
     ]
    }
   ],
   "source": [
    "train_set = torchvision.datasets.MNIST(root='', train=True, download=True, transform=transforms.ToTensor())\n",
    "test_set = torchvision.datasets.MNIST(root='', train=False, download=True, transform=transforms.ToTensor())\n",
    "\n",
    "num_classes = len(train_set)\n",
    "\n",
    "img = np.asarray(train_set[0][0][0])\n",
    "plt.imshow(img, cmap='gray')"
   ]
  },
  {
   "cell_type": "code",
   "execution_count": 0,
   "metadata": {
    "colab": {},
    "colab_type": "code",
    "id": "R1gResX1EcA5"
   },
   "outputs": [],
   "source": [
    "class MnistDataset(Dataset):\n",
    "  def __init__(self, train_set, transforms=None, preprocessing=None):\n",
    "    super(MnistDataset, self).__init__()\n",
    "    self.x_train = train_set.data[:, np.newaxis, :, :].float()\n",
    "    self.y_train = train_set.targets\n",
    "    self.transforms = transforms\n",
    "    self.preprocessing = preprocessing\n",
    "\n",
    "\n",
    "  def __getitem__(self, idx):\n",
    "    x = self.x_train[idx]\n",
    "    y = self.y_train[idx]\n",
    "\n",
    "    if self.transforms:\n",
    "      x = self.transforms(image = x.numpy())\n",
    "      x = x['image']\n",
    "\n",
    "    return x, y\n",
    "\n",
    "\n",
    "  def __len__(self):\n",
    "    return len(self.x_train)"
   ]
  },
  {
   "cell_type": "code",
   "execution_count": 0,
   "metadata": {
    "colab": {},
    "colab_type": "code",
    "id": "k-XVDzs3oXF5"
   },
   "outputs": [],
   "source": [
    "def batch_norm(x_batch):\n",
    "  # Normalizes batch data and makes it ready for the model input\n",
    "\n",
    "  std, mean = torch.std_mean(x_batch.float())\n",
    "\n",
    "  for i in range(len(x_batch)):\n",
    "    x_batch[i] = ((x_batch[i] - mean) / (std + 1e-8))\n",
    "\n",
    "  return x_batch[:, np.newaxis, :, :].float()"
   ]
  },
  {
   "cell_type": "code",
   "execution_count": 0,
   "metadata": {
    "colab": {},
    "colab_type": "code",
    "id": "uXzvNGe5E6fo"
   },
   "outputs": [],
   "source": [
    "# Creates MNIST Dataset\n",
    "mnist_train_dataset = MnistDataset(train_set)\n",
    "\n",
    "# Creates MNIST Dataloader by the instance of MNIST Dataset above\n",
    "mnist_train_dataloader = DataLoader(mnist_train_dataset, batch_size=MNIST_BATCH_SIZE, shuffle=True, num_workers=4)"
   ]
  },
  {
   "cell_type": "markdown",
   "metadata": {
    "colab_type": "text",
    "id": "ZL46LiOuWLl6"
   },
   "source": [
    "# **Focal Loss Function**"
   ]
  },
  {
   "cell_type": "code",
   "execution_count": 0,
   "metadata": {
    "colab": {},
    "colab_type": "code",
    "id": "kt1fIDKE1O3_"
   },
   "outputs": [],
   "source": [
    "def focal_loss(y_lbl, y_pred, gamma=2):\n",
    "  # y_lbl is a tensor which includes the the existing probabilities' labels [0, 0, ... , 1, 0, ..., n]\n",
    "  # y_pred is a tensor which includes a model probabilities' predictions\n",
    "  # y_pred should be passed to this function AFTER any probability manupulation, for instance, a softmax manipulation\n",
    "  assert len(y_lbl) == len(y_pred), \"Incompatible lengths: len(y_lbl)=\" + str(len(y_lbl)) + \", len(y_pred)=\" + str(len(y_pred))\n",
    "\n",
    "  s = 0\n",
    "  for i in range(len(y_lbl)):\n",
    "    if y_lbl[i] == 1:\n",
    "      p = y_pred[i]\n",
    "    else:\n",
    "      p = 1 - y_pred[i]\n",
    "    s -= (((1 - p) ** gamma) * math.log(p))\n",
    "\n",
    "  return s / len(y_lbl)"
   ]
  },
  {
   "cell_type": "code",
   "execution_count": 0,
   "metadata": {
    "colab": {},
    "colab_type": "code",
    "id": "5oScdxu6LOU4"
   },
   "outputs": [],
   "source": [
    "# Focal lost for a batch of images\n",
    "def batch_focal_loss(preds, y, gamma=2):\n",
    "  assert len(preds) == len(y), \"Incompatible lengths: len(preds)=\" + str(len(preds)) + \", len(y)=\" + str(len(y))\n",
    "\n",
    "  y_temp = torch.zeros([len(y), NUM_CLASSES], dtype=torch.float32)\n",
    "  for i in range(len(y)):\n",
    "    y_temp[i][y[i]] = 1 \n",
    "\n",
    "  return reduce(lambda x, y: x + y, [focal_loss(lbl, pred) for lbl, pred in zip(y_temp, preds)]) / len(y)"
   ]
  },
  {
   "cell_type": "code",
   "execution_count": 12,
   "metadata": {
    "colab": {
     "base_uri": "https://localhost:8080/",
     "height": 67
    },
    "colab_type": "code",
    "id": "YCzkWA1S_ApU",
    "outputId": "4087d7e0-35f2-4d27-f282-633fb7d2f487"
   },
   "outputs": [
    {
     "name": "stdout",
     "output_type": "stream",
     "text": [
      "0.0041955216868125485\n",
      "0.8799942212215676\n",
      "0.626114010941354\n"
     ]
    }
   ],
   "source": [
    "# Good prediction example\n",
    "\n",
    "y_pred = [0.1, 0.2, 0.9, 0.15, 0.03, 0.11, 0.001, 0.02, 0.28, 0.04]\n",
    "y_lbl = [0, 0, 1, 0, 0, 0, 0, 0, 0, 0]\n",
    "print(focal_loss(y_lbl, y_pred))\n",
    "\n",
    "\n",
    "# Bad prefiction examples\n",
    "\n",
    "y_lbl[2], y_lbl[6] = 0, 1\n",
    "print(focal_loss(y_lbl, y_pred))\n",
    "\n",
    "y_pred = [0.5, 0.3, 0.9, 0.15, 0.8, 0.75, 0.2, 0.1, 0.6, 0.5]\n",
    "y_lbl = [0, 0, 0, 0, 0, 0, 0, 1, 0, 0]\n",
    "print(focal_loss(y_lbl, y_pred))"
   ]
  },
  {
   "cell_type": "markdown",
   "metadata": {
    "colab_type": "text",
    "id": "gfzUp40NWeUX"
   },
   "source": [
    "# **LeNet Model**"
   ]
  },
  {
   "cell_type": "code",
   "execution_count": 0,
   "metadata": {
    "colab": {},
    "colab_type": "code",
    "id": "HYPbWnsEdkd_"
   },
   "outputs": [],
   "source": [
    "class Convolution_Model(nn.Module):\n",
    "  def __init__(self):\n",
    "    super(Convolution_Model, self).__init__()\n",
    "    \n",
    "    self.conv1 = nn.Conv2d(1, 7, 5)\n",
    "    self.conv2 = nn.Conv2d(7, 16, 5)\n",
    "\n",
    "    self.fc1 = nn.Linear(in_features=16, out_features=120)\n",
    "    self.fc2 = nn.Linear(in_features=120, out_features=84)\n",
    "    self.fc3 = nn.Linear(in_features=84, out_features=10)\n",
    "\n",
    "\n",
    "  def forward(self, x):\n",
    "    x = self.conv1(x)\n",
    "    x = F.relu(x)\n",
    "    x = F.max_pool2d(x, 3)\n",
    "\n",
    "    x = self.conv2(x)\n",
    "    x = F.relu(x)\n",
    "    x = F.max_pool2d(x, 3)\n",
    "\n",
    "    x = x.view(x.shape[0], -1)\n",
    "    x = self.fc1(x)\n",
    "    x = F.relu(x)\n",
    "\n",
    "    x = self.fc2(x)\n",
    "    x = F.relu(x)\n",
    "\n",
    "    x = self.fc3(x)\n",
    "\n",
    "    x = F.softmax(x, dim=1)\n",
    "    return x"
   ]
  },
  {
   "cell_type": "code",
   "execution_count": 0,
   "metadata": {
    "colab": {},
    "colab_type": "code",
    "id": "hZXbKSA0aHhk"
   },
   "outputs": [],
   "source": [
    "def batch_accuracy(y, pred):\n",
    "  # Calculates accuracy for a given batch of data\n",
    "  \n",
    "  assert len(y) == len(pred), \"Incompatible lengths: len(y)=\" + str(len(y)) + \", len(y_pred)=\" + str(len(pred))\n",
    "\n",
    "  true_preds = 0\n",
    "  for i in range(len(y)):\n",
    "    if torch.max(pred) == pred[i][y[i]]:\n",
    "      true_preds += 1\n",
    "  \n",
    "  return true_preds / len(y)"
   ]
  },
  {
   "cell_type": "code",
   "execution_count": 0,
   "metadata": {
    "colab": {},
    "colab_type": "code",
    "id": "-3KaTP8nDW3A"
   },
   "outputs": [],
   "source": [
    "# Training the model \n",
    "def train(model, optimizer, dataloader, num_epochs=10, loss=nn.CrossEntropyLoss()):\n",
    "  convergence_lst = list()\n",
    "  accuracy_lst = list()\n",
    "\n",
    "  for epoch in range(num_epochs):\n",
    "    i = 0\n",
    "    print(\"********** epoch no' \" + str(epoch + 1) + \" from \" + str(num_epochs) + \" **********\")\n",
    "\n",
    "    for data in dataloader:\n",
    "      x, y = data\n",
    "\n",
    "      # zero the gradients after updating\n",
    "      optimizer.zero_grad()\n",
    "\n",
    "      # y prediction = forward pass with our model\n",
    "      y_pred = model(x)\n",
    "\n",
    "      # loss\n",
    "      l = loss(y_pred, y)\n",
    "      convergence_lst.append(l)\n",
    "      ac = batch_accuracy(y, y_pred)\n",
    "      accuracy_lst.append(ac)     \n",
    "\n",
    "      # calculate gradients = backward pass\n",
    "      l.backward()\n",
    "\n",
    "      # update weights\n",
    "      optimizer.step()\n",
    "\n",
    "      i += 1\n",
    "      if i % 100 == 0:\n",
    "        print(str(i) + \" from \" + str(len(dataloader)) + \": current batch accuracy=\" + str(ac) + \" loss=\" + str(l))\n",
    "\n",
    "  return convergence_lst, accuracy_lst"
   ]
  },
  {
   "cell_type": "code",
   "execution_count": 55,
   "metadata": {
    "colab": {
     "base_uri": "https://localhost:8080/",
     "height": 857
    },
    "colab_type": "code",
    "id": "Kq4MYgdyFzX2",
    "outputId": "51e1a140-7187-4c9c-95a0-7879d6e3dd83"
   },
   "outputs": [
    {
     "name": "stdout",
     "output_type": "stream",
     "text": [
      "********** epoch no' 1 from 10 **********\n",
      "100 from 469: current batch accuracy=0.0078125 loss=tensor(1.9848, grad_fn=<NllLossBackward>)\n",
      "200 from 469: current batch accuracy=0.1015625 loss=tensor(1.7547, grad_fn=<NllLossBackward>)\n",
      "300 from 469: current batch accuracy=0.28125 loss=tensor(1.7230, grad_fn=<NllLossBackward>)\n",
      "400 from 469: current batch accuracy=0.34375 loss=tensor(1.6357, grad_fn=<NllLossBackward>)\n",
      "********** epoch no' 2 from 10 **********\n",
      "100 from 469: current batch accuracy=0.6015625 loss=tensor(1.4987, grad_fn=<NllLossBackward>)\n",
      "200 from 469: current batch accuracy=0.6484375 loss=tensor(1.5255, grad_fn=<NllLossBackward>)\n",
      "300 from 469: current batch accuracy=0.7265625 loss=tensor(1.5304, grad_fn=<NllLossBackward>)\n",
      "400 from 469: current batch accuracy=0.703125 loss=tensor(1.5157, grad_fn=<NllLossBackward>)\n",
      "********** epoch no' 3 from 10 **********\n",
      "100 from 469: current batch accuracy=0.84375 loss=tensor(1.4821, grad_fn=<NllLossBackward>)\n",
      "200 from 469: current batch accuracy=0.75 loss=tensor(1.5177, grad_fn=<NllLossBackward>)\n",
      "300 from 469: current batch accuracy=0.8203125 loss=tensor(1.4968, grad_fn=<NllLossBackward>)\n",
      "400 from 469: current batch accuracy=0.8515625 loss=tensor(1.5126, grad_fn=<NllLossBackward>)\n",
      "********** epoch no' 4 from 10 **********\n",
      "100 from 469: current batch accuracy=0.8828125 loss=tensor(1.5021, grad_fn=<NllLossBackward>)\n",
      "200 from 469: current batch accuracy=0.8984375 loss=tensor(1.5105, grad_fn=<NllLossBackward>)\n",
      "300 from 469: current batch accuracy=0.9140625 loss=tensor(1.4924, grad_fn=<NllLossBackward>)\n",
      "400 from 469: current batch accuracy=0.859375 loss=tensor(1.5266, grad_fn=<NllLossBackward>)\n",
      "********** epoch no' 5 from 10 **********\n",
      "100 from 469: current batch accuracy=0.875 loss=tensor(1.5113, grad_fn=<NllLossBackward>)\n",
      "200 from 469: current batch accuracy=0.9140625 loss=tensor(1.4848, grad_fn=<NllLossBackward>)\n",
      "300 from 469: current batch accuracy=0.9140625 loss=tensor(1.5017, grad_fn=<NllLossBackward>)\n",
      "400 from 469: current batch accuracy=0.90625 loss=tensor(1.4921, grad_fn=<NllLossBackward>)\n",
      "********** epoch no' 6 from 10 **********\n",
      "100 from 469: current batch accuracy=0.8359375 loss=tensor(1.5436, grad_fn=<NllLossBackward>)\n",
      "200 from 469: current batch accuracy=0.8515625 loss=tensor(1.4944, grad_fn=<NllLossBackward>)\n",
      "300 from 469: current batch accuracy=0.875 loss=tensor(1.5082, grad_fn=<NllLossBackward>)\n",
      "400 from 469: current batch accuracy=0.875 loss=tensor(1.5208, grad_fn=<NllLossBackward>)\n",
      "********** epoch no' 7 from 10 **********\n",
      "100 from 469: current batch accuracy=0.9296875 loss=tensor(1.5085, grad_fn=<NllLossBackward>)\n",
      "200 from 469: current batch accuracy=0.953125 loss=tensor(1.4767, grad_fn=<NllLossBackward>)\n",
      "300 from 469: current batch accuracy=0.921875 loss=tensor(1.4843, grad_fn=<NllLossBackward>)\n",
      "400 from 469: current batch accuracy=0.9375 loss=tensor(1.4683, grad_fn=<NllLossBackward>)\n",
      "********** epoch no' 8 from 10 **********\n",
      "100 from 469: current batch accuracy=0.921875 loss=tensor(1.5015, grad_fn=<NllLossBackward>)\n",
      "200 from 469: current batch accuracy=0.953125 loss=tensor(1.4691, grad_fn=<NllLossBackward>)\n",
      "300 from 469: current batch accuracy=0.9609375 loss=tensor(1.4924, grad_fn=<NllLossBackward>)\n",
      "400 from 469: current batch accuracy=0.9375 loss=tensor(1.4924, grad_fn=<NllLossBackward>)\n",
      "********** epoch no' 9 from 10 **********\n",
      "100 from 469: current batch accuracy=0.953125 loss=tensor(1.4846, grad_fn=<NllLossBackward>)\n",
      "200 from 469: current batch accuracy=0.9375 loss=tensor(1.4962, grad_fn=<NllLossBackward>)\n",
      "300 from 469: current batch accuracy=0.9453125 loss=tensor(1.4846, grad_fn=<NllLossBackward>)\n",
      "400 from 469: current batch accuracy=0.9453125 loss=tensor(1.4881, grad_fn=<NllLossBackward>)\n",
      "********** epoch no' 10 from 10 **********\n",
      "100 from 469: current batch accuracy=0.9375 loss=tensor(1.4921, grad_fn=<NllLossBackward>)\n",
      "200 from 469: current batch accuracy=0.9296875 loss=tensor(1.5079, grad_fn=<NllLossBackward>)\n",
      "300 from 469: current batch accuracy=0.96875 loss=tensor(1.4768, grad_fn=<NllLossBackward>)\n",
      "400 from 469: current batch accuracy=0.921875 loss=tensor(1.5055, grad_fn=<NllLossBackward>)\n"
     ]
    }
   ],
   "source": [
    "# Define the model\n",
    "model = Convolution_Model()\n",
    "\n",
    "# Optimizers\n",
    "adam_optim = torch.optim.Adam(model.parameters())\n",
    "radam_optim = mylib1.RAdam(model.parameters())\n",
    "sgd_optim = torch.optim.SGD(model.parameters(), lr=0.01)\n",
    "\n",
    "convergence_lst, accuracy_lst = train(model, radam_optim, mnist_train_dataloader, loss=batch_focal_loss)"
   ]
  },
  {
   "cell_type": "code",
   "execution_count": 56,
   "metadata": {
    "colab": {
     "base_uri": "https://localhost:8080/",
     "height": 281
    },
    "colab_type": "code",
    "id": "zJhMh8c5DvZ7",
    "outputId": "f615582b-d2f7-449a-bff0-904f77b9444c"
   },
   "outputs": [
    {
     "data": {
      "image/png": "[encoded data removed]",
      "text/plain": [
       "<Figure size 432x288 with 2 Axes>"
      ]
     },
     "metadata": {
      "needs_background": "light",
      "tags": []
     },
     "output_type": "display_data"
    }
   ],
   "source": [
    "plt.figure()\n",
    "\n",
    "plt.subplot(1, 2, 1)\n",
    "plt.title(\"accuracy_train\")\n",
    "plt.plot(np.array(accuracy_lst), 'r')\n",
    "\n",
    "plt.subplot(1, 2, 2)\n",
    "plt.title(\"loss_train\")\n",
    "plt.plot(np.array(convergence_lst), 'r')\n",
    "\n",
    "plt.show()"
   ]
  },
  {
   "cell_type": "markdown",
   "metadata": {
    "colab_type": "text",
    "id": "0xf4G2iPcbTM"
   },
   "source": [
    "# **MNIST Test Dataset and Dataloader**"
   ]
  },
  {
   "cell_type": "code",
   "execution_count": 0,
   "metadata": {
    "colab": {},
    "colab_type": "code",
    "id": "TfLf58WBcn4c"
   },
   "outputs": [],
   "source": [
    "# Creates MNIST Dataset\n",
    "mnist_test_dataset = MnistDataset(test_set)\n",
    "\n",
    "# Creates MNIST Dataloader by the instance of MNIST Dataset above\n",
    "mnist_test_dataloader = DataLoader(mnist_test_dataset, batch_size=MNIST_BATCH_SIZE, shuffle=True, num_workers=4)"
   ]
  },
  {
   "cell_type": "markdown",
   "metadata": {
    "colab_type": "text",
    "id": "fxiq69UY9dHh"
   },
   "source": [
    "# **Prediction Of Test Samples**"
   ]
  },
  {
   "cell_type": "code",
   "execution_count": 0,
   "metadata": {
    "colab": {},
    "colab_type": "code",
    "id": "MwVYhC9HhjcB"
   },
   "outputs": [],
   "source": [
    "def predict(model, dataloader, pred_num, loss=nn.CrossEntropyLoss()):\n",
    "  i = 0\n",
    "  convergence_lst = list()\n",
    "  accuracy_lst = list()\n",
    "  confusion_mat = np.zeros((NUM_CLASSES, NUM_CLASSES))\n",
    "\n",
    "  for data in dataloader:\n",
    "    x, y = data\n",
    "\n",
    "    # y prediction = forward pass with our model\n",
    "    y_pred = model.forward(x)\n",
    "\n",
    "    l = loss(y_pred, y)\n",
    "    convergence_lst.append(l)\n",
    "    ac = batch_accuracy(y, y_pred)\n",
    "    accuracy_lst.append(ac)\n",
    "\n",
    "    for j in range(len(y)):\n",
    "      confusion_mat[y[j]][np.where(y_pred[j] == max(y_pred[j]))] += 1\n",
    "\n",
    "    i += 1\n",
    "    if i >= pred_num:\n",
    "      break\n",
    "    \n",
    "  return confusion_mat, accuracy_lst, convergence_lst"
   ]
  },
  {
   "cell_type": "code",
   "execution_count": 0,
   "metadata": {
    "colab": {},
    "colab_type": "code",
    "id": "JWuhmbaQeAFE"
   },
   "outputs": [],
   "source": [
    "confusion_mat, accuracy_vals, loss_vals = predict(model, mnist_test_dataloader, len(mnist_test_dataloader.dataset.y_train))"
   ]
  },
  {
   "cell_type": "code",
   "execution_count": 57,
   "metadata": {
    "colab": {
     "base_uri": "https://localhost:8080/",
     "height": 281
    },
    "colab_type": "code",
    "id": "oLyH_Sbc8T2S",
    "outputId": "4432bf9d-337c-432d-cae5-556d9a7db2f4"
   },
   "outputs": [
    {
     "data": {
      "image/png": "[encoded data removed]",
      "text/plain": [
       "<Figure size 432x288 with 2 Axes>"
      ]
     },
     "metadata": {
      "needs_background": "light",
      "tags": []
     },
     "output_type": "display_data"
    }
   ],
   "source": [
    "plt.figure()\n",
    "\n",
    "plt.subplot(1, 2, 1)\n",
    "plt.title(\"accuracy_test\")\n",
    "plt.plot(np.array(accuracy_vals), 'r')\n",
    "\n",
    "plt.subplot(1, 2, 2)\n",
    "plt.title(\"loss_test\")\n",
    "plt.plot(np.array(loss_vals), 'r')\n",
    "\n",
    "plt.show()"
   ]
  },
  {
   "cell_type": "code",
   "execution_count": 0,
   "metadata": {
    "colab": {},
    "colab_type": "code",
    "id": "Wz-j0vrY3aYf"
   },
   "outputs": [],
   "source": [
    "def print_confusion_mat(confusion_mat):\n",
    "  for i in range(confusion_mat.shape[0]):\n",
    "    print()\n",
    "    \n",
    "    for j in range(confusion_mat.shape[1]):\n",
    "      print(str(confusion_mat[i][j]), end=\"\\t\")"
   ]
  },
  {
   "cell_type": "code",
   "execution_count": 58,
   "metadata": {
    "colab": {
     "base_uri": "https://localhost:8080/",
     "height": 202
    },
    "colab_type": "code",
    "id": "rcp4rjcQ8vaH",
    "outputId": "8e95b6e0-009b-4818-92ec-1ee6240f9fac"
   },
   "outputs": [
    {
     "name": "stdout",
     "output_type": "stream",
     "text": [
      "\n",
      "971.0\t0.0\t2.0\t0.0\t1.0\t2.0\t2.0\t1.0\t0.0\t1.0\t\n",
      "1.0\t1122.0\t1.0\t3.0\t0.0\t3.0\t0.0\t4.0\t1.0\t0.0\t\n",
      "10.0\t1.0\t967.0\t7.0\t1.0\t0.0\t2.0\t43.0\t1.0\t0.0\t\n",
      "1.0\t0.0\t6.0\t985.0\t0.0\t7.0\t0.0\t8.0\t1.0\t2.0\t\n",
      "2.0\t1.0\t2.0\t0.0\t912.0\t1.0\t5.0\t14.0\t6.0\t39.0\t\n",
      "3.0\t1.0\t0.0\t9.0\t0.0\t876.0\t1.0\t1.0\t0.0\t1.0\t\n",
      "15.0\t1.0\t2.0\t0.0\t7.0\t19.0\t911.0\t0.0\t2.0\t1.0\t\n",
      "0.0\t3.0\t5.0\t2.0\t0.0\t0.0\t0.0\t1014.0\t3.0\t1.0\t\n",
      "5.0\t0.0\t6.0\t8.0\t1.0\t9.0\t1.0\t2.0\t927.0\t15.0\t\n",
      "5.0\t1.0\t0.0\t11.0\t1.0\t4.0\t0.0\t10.0\t7.0\t970.0\t"
     ]
    }
   ],
   "source": [
    "print_confusion_mat(confusion_mat)"
   ]
  }
 ],
 "metadata": {
  "colab": {
   "collapsed_sections": [],
   "name": "Eylon_lab7.ipynb",
   "provenance": [],
   "toc_visible": true
  },
  "kernelspec": {
   "display_name": "Python 3",
   "language": "python",
   "name": "python3"
  },
  "language_info": {
   "codemirror_mode": {
    "name": "ipython",
    "version": 3
   },
   "file_extension": ".py",
   "mimetype": "text/x-python",
   "name": "python",
   "nbconvert_exporter": "python",
   "pygments_lexer": "ipython3",
   "version": "3.7.4"
  },
  "widgets": {
   "application/vnd.jupyter.widget-state+json": {
    "03b9fec6c2f84f0e8943f4cf8f408e71": {
     "model_module": "@jupyter-widgets/controls",
     "model_name": "DescriptionStyleModel",
     "state": {
      "_model_module": "@jupyter-widgets/controls",
      "_model_module_version": "1.5.0",
      "_model_name": "DescriptionStyleModel",
      "_view_count": null,
      "_view_module": "@jupyter-widgets/base",
      "_view_module_version": "1.2.0",
      "_view_name": "StyleView",
      "description_width": ""
     }
    },
    "042b2c6774d44f438f401e0e8295374b": {
     "model_module": "@jupyter-widgets/controls",
     "model_name": "HTMLModel",
     "state": {
      "_dom_classes": [],
      "_model_module": "@jupyter-widgets/controls",
      "_model_module_version": "1.5.0",
      "_model_name": "HTMLModel",
      "_view_count": null,
      "_view_module": "@jupyter-widgets/controls",
      "_view_module_version": "1.5.0",
      "_view_name": "HTMLView",
      "description": "",
      "description_tooltip": null,
      "layout": "IPY_MODEL_1cb075a8ed0043f78e8c4a1a841ccf4b",
      "placeholder": "​",
      "style": "IPY_MODEL_8b59088ce0a94802907f88f7e204aced",
      "value": " 9920512/? [00:03&lt;00:00, 3218883.91it/s]"
     }
    },
    "069e2978a742455db96a898f56a9bf11": {
     "model_module": "@jupyter-widgets/controls",
     "model_name": "ProgressStyleModel",
     "state": {
      "_model_module": "@jupyter-widgets/controls",
      "_model_module_version": "1.5.0",
      "_model_name": "ProgressStyleModel",
      "_view_count": null,
      "_view_module": "@jupyter-widgets/base",
      "_view_module_version": "1.2.0",
      "_view_name": "StyleView",
      "bar_color": null,
      "description_width": "initial"
     }
    },
    "088d8ee358ae4393b133b8984a9bf3d4": {
     "model_module": "@jupyter-widgets/controls",
     "model_name": "ProgressStyleModel",
     "state": {
      "_model_module": "@jupyter-widgets/controls",
      "_model_module_version": "1.5.0",
      "_model_name": "ProgressStyleModel",
      "_view_count": null,
      "_view_module": "@jupyter-widgets/base",
      "_view_module_version": "1.2.0",
      "_view_name": "StyleView",
      "bar_color": null,
      "description_width": "initial"
     }
    },
    "09db493c85a0475495273cbd8d1a223f": {
     "model_module": "@jupyter-widgets/controls",
     "model_name": "HTMLModel",
     "state": {
      "_dom_classes": [],
      "_model_module": "@jupyter-widgets/controls",
      "_model_module_version": "1.5.0",
      "_model_name": "HTMLModel",
      "_view_count": null,
      "_view_module": "@jupyter-widgets/controls",
      "_view_module_version": "1.5.0",
      "_view_name": "HTMLView",
      "description": "",
      "description_tooltip": null,
      "layout": "IPY_MODEL_56f96f0cafe545a49b6ce15eb7923dd7",
      "placeholder": "​",
      "style": "IPY_MODEL_b35cc7069ca841b2ae11108854f1b2c4",
      "value": " 8192/? [00:00&lt;00:00, 20971.00it/s]"
     }
    },
    "0a9a32c402df4917a04d4fee7144aecb": {
     "model_module": "@jupyter-widgets/controls",
     "model_name": "FloatProgressModel",
     "state": {
      "_dom_classes": [],
      "_model_module": "@jupyter-widgets/controls",
      "_model_module_version": "1.5.0",
      "_model_name": "FloatProgressModel",
      "_view_count": null,
      "_view_module": "@jupyter-widgets/controls",
      "_view_module_version": "1.5.0",
      "_view_name": "ProgressView",
      "bar_style": "success",
      "description": "",
      "description_tooltip": null,
      "layout": "IPY_MODEL_106fd44de3ef4ac09a74d165aa23bd54",
      "max": 1,
      "min": 0,
      "orientation": "horizontal",
      "style": "IPY_MODEL_088d8ee358ae4393b133b8984a9bf3d4",
      "value": 1
     }
    },
    "0dba35f5ec6e4214938fac2107c72c56": {
     "model_module": "@jupyter-widgets/controls",
     "model_name": "FloatProgressModel",
     "state": {
      "_dom_classes": [],
      "_model_module": "@jupyter-widgets/controls",
      "_model_module_version": "1.5.0",
      "_model_name": "FloatProgressModel",
      "_view_count": null,
      "_view_module": "@jupyter-widgets/controls",
      "_view_module_version": "1.5.0",
      "_view_name": "ProgressView",
      "bar_style": "success",
      "description": "",
      "description_tooltip": null,
      "layout": "IPY_MODEL_c0f9e5f05cf74c37a40edaab81d315e8",
      "max": 1,
      "min": 0,
      "orientation": "horizontal",
      "style": "IPY_MODEL_d2e79f84f1b7478dbab9298288491918",
      "value": 1
     }
    },
    "106fd44de3ef4ac09a74d165aa23bd54": {
     "model_module": "@jupyter-widgets/base",
     "model_name": "LayoutModel",
     "state": {
      "_model_module": "@jupyter-widgets/base",
      "_model_module_version": "1.2.0",
      "_model_name": "LayoutModel",
      "_view_count": null,
      "_view_module": "@jupyter-widgets/base",
      "_view_module_version": "1.2.0",
      "_view_name": "LayoutView",
      "align_content": null,
      "align_items": null,
      "align_self": null,
      "border": null,
      "bottom": null,
      "display": null,
      "flex": null,
      "flex_flow": null,
      "grid_area": null,
      "grid_auto_columns": null,
      "grid_auto_flow": null,
      "grid_auto_rows": null,
      "grid_column": null,
      "grid_gap": null,
      "grid_row": null,
      "grid_template_areas": null,
      "grid_template_columns": null,
      "grid_template_rows": null,
      "height": null,
      "justify_content": null,
      "justify_items": null,
      "left": null,
      "margin": null,
      "max_height": null,
      "max_width": null,
      "min_height": null,
      "min_width": null,
      "object_fit": null,
      "object_position": null,
      "order": null,
      "overflow": null,
      "overflow_x": null,
      "overflow_y": null,
      "padding": null,
      "right": null,
      "top": null,
      "visibility": null,
      "width": null
     }
    },
    "1810465d78e742968a0f24d76621ef2d": {
     "model_module": "@jupyter-widgets/controls",
     "model_name": "HBoxModel",
     "state": {
      "_dom_classes": [],
      "_model_module": "@jupyter-widgets/controls",
      "_model_module_version": "1.5.0",
      "_model_name": "HBoxModel",
      "_view_count": null,
      "_view_module": "@jupyter-widgets/controls",
      "_view_module_version": "1.5.0",
      "_view_name": "HBoxView",
      "box_style": "",
      "children": [
       "IPY_MODEL_0dba35f5ec6e4214938fac2107c72c56",
       "IPY_MODEL_ae9b287471c74765910c25b71feb447d"
      ],
      "layout": "IPY_MODEL_537e5bfea49942b3b62c1ced1e7379e1"
     }
    },
    "1bbec82e9e954e27a2e55c12c918d9ff": {
     "model_module": "@jupyter-widgets/base",
     "model_name": "LayoutModel",
     "state": {
      "_model_module": "@jupyter-widgets/base",
      "_model_module_version": "1.2.0",
      "_model_name": "LayoutModel",
      "_view_count": null,
      "_view_module": "@jupyter-widgets/base",
      "_view_module_version": "1.2.0",
      "_view_name": "LayoutView",
      "align_content": null,
      "align_items": null,
      "align_self": null,
      "border": null,
      "bottom": null,
      "display": null,
      "flex": null,
      "flex_flow": null,
      "grid_area": null,
      "grid_auto_columns": null,
      "grid_auto_flow": null,
      "grid_auto_rows": null,
      "grid_column": null,
      "grid_gap": null,
      "grid_row": null,
      "grid_template_areas": null,
      "grid_template_columns": null,
      "grid_template_rows": null,
      "height": null,
      "justify_content": null,
      "justify_items": null,
      "left": null,
      "margin": null,
      "max_height": null,
      "max_width": null,
      "min_height": null,
      "min_width": null,
      "object_fit": null,
      "object_position": null,
      "order": null,
      "overflow": null,
      "overflow_x": null,
      "overflow_y": null,
      "padding": null,
      "right": null,
      "top": null,
      "visibility": null,
      "width": null
     }
    },
    "1cb075a8ed0043f78e8c4a1a841ccf4b": {
     "model_module": "@jupyter-widgets/base",
     "model_name": "LayoutModel",
     "state": {
      "_model_module": "@jupyter-widgets/base",
      "_model_module_version": "1.2.0",
      "_model_name": "LayoutModel",
      "_view_count": null,
      "_view_module": "@jupyter-widgets/base",
      "_view_module_version": "1.2.0",
      "_view_name": "LayoutView",
      "align_content": null,
      "align_items": null,
      "align_self": null,
      "border": null,
      "bottom": null,
      "display": null,
      "flex": null,
      "flex_flow": null,
      "grid_area": null,
      "grid_auto_columns": null,
      "grid_auto_flow": null,
      "grid_auto_rows": null,
      "grid_column": null,
      "grid_gap": null,
      "grid_row": null,
      "grid_template_areas": null,
      "grid_template_columns": null,
      "grid_template_rows": null,
      "height": null,
      "justify_content": null,
      "justify_items": null,
      "left": null,
      "margin": null,
      "max_height": null,
      "max_width": null,
      "min_height": null,
      "min_width": null,
      "object_fit": null,
      "object_position": null,
      "order": null,
      "overflow": null,
      "overflow_x": null,
      "overflow_y": null,
      "padding": null,
      "right": null,
      "top": null,
      "visibility": null,
      "width": null
     }
    },
    "1e3ff3472afc4ec18a133d092069e397": {
     "model_module": "@jupyter-widgets/controls",
     "model_name": "FloatProgressModel",
     "state": {
      "_dom_classes": [],
      "_model_module": "@jupyter-widgets/controls",
      "_model_module_version": "1.5.0",
      "_model_name": "FloatProgressModel",
      "_view_count": null,
      "_view_module": "@jupyter-widgets/controls",
      "_view_module_version": "1.5.0",
      "_view_name": "ProgressView",
      "bar_style": "success",
      "description": "",
      "description_tooltip": null,
      "layout": "IPY_MODEL_6b5f18f5266b479fb714e7866e361a52",
      "max": 1,
      "min": 0,
      "orientation": "horizontal",
      "style": "IPY_MODEL_5b653657efef4e97bf90807aeece3ebe",
      "value": 1
     }
    },
    "313fe9faf3bd4c14abf553b123264252": {
     "model_module": "@jupyter-widgets/controls",
     "model_name": "HBoxModel",
     "state": {
      "_dom_classes": [],
      "_model_module": "@jupyter-widgets/controls",
      "_model_module_version": "1.5.0",
      "_model_name": "HBoxModel",
      "_view_count": null,
      "_view_module": "@jupyter-widgets/controls",
      "_view_module_version": "1.5.0",
      "_view_name": "HBoxView",
      "box_style": "",
      "children": [
       "IPY_MODEL_1e3ff3472afc4ec18a133d092069e397",
       "IPY_MODEL_6015823bb74d476cbbc38dd23af02eb6"
      ],
      "layout": "IPY_MODEL_a5d53904cfda44daaa0a8e997f926017"
     }
    },
    "537e5bfea49942b3b62c1ced1e7379e1": {
     "model_module": "@jupyter-widgets/base",
     "model_name": "LayoutModel",
     "state": {
      "_model_module": "@jupyter-widgets/base",
      "_model_module_version": "1.2.0",
      "_model_name": "LayoutModel",
      "_view_count": null,
      "_view_module": "@jupyter-widgets/base",
      "_view_module_version": "1.2.0",
      "_view_name": "LayoutView",
      "align_content": null,
      "align_items": null,
      "align_self": null,
      "border": null,
      "bottom": null,
      "display": null,
      "flex": null,
      "flex_flow": null,
      "grid_area": null,
      "grid_auto_columns": null,
      "grid_auto_flow": null,
      "grid_auto_rows": null,
      "grid_column": null,
      "grid_gap": null,
      "grid_row": null,
      "grid_template_areas": null,
      "grid_template_columns": null,
      "grid_template_rows": null,
      "height": null,
      "justify_content": null,
      "justify_items": null,
      "left": null,
      "margin": null,
      "max_height": null,
      "max_width": null,
      "min_height": null,
      "min_width": null,
      "object_fit": null,
      "object_position": null,
      "order": null,
      "overflow": null,
      "overflow_x": null,
      "overflow_y": null,
      "padding": null,
      "right": null,
      "top": null,
      "visibility": null,
      "width": null
     }
    },
    "56f96f0cafe545a49b6ce15eb7923dd7": {
     "model_module": "@jupyter-widgets/base",
     "model_name": "LayoutModel",
     "state": {
      "_model_module": "@jupyter-widgets/base",
      "_model_module_version": "1.2.0",
      "_model_name": "LayoutModel",
      "_view_count": null,
      "_view_module": "@jupyter-widgets/base",
      "_view_module_version": "1.2.0",
      "_view_name": "LayoutView",
      "align_content": null,
      "align_items": null,
      "align_self": null,
      "border": null,
      "bottom": null,
      "display": null,
      "flex": null,
      "flex_flow": null,
      "grid_area": null,
      "grid_auto_columns": null,
      "grid_auto_flow": null,
      "grid_auto_rows": null,
      "grid_column": null,
      "grid_gap": null,
      "grid_row": null,
      "grid_template_areas": null,
      "grid_template_columns": null,
      "grid_template_rows": null,
      "height": null,
      "justify_content": null,
      "justify_items": null,
      "left": null,
      "margin": null,
      "max_height": null,
      "max_width": null,
      "min_height": null,
      "min_width": null,
      "object_fit": null,
      "object_position": null,
      "order": null,
      "overflow": null,
      "overflow_x": null,
      "overflow_y": null,
      "padding": null,
      "right": null,
      "top": null,
      "visibility": null,
      "width": null
     }
    },
    "5b653657efef4e97bf90807aeece3ebe": {
     "model_module": "@jupyter-widgets/controls",
     "model_name": "ProgressStyleModel",
     "state": {
      "_model_module": "@jupyter-widgets/controls",
      "_model_module_version": "1.5.0",
      "_model_name": "ProgressStyleModel",
      "_view_count": null,
      "_view_module": "@jupyter-widgets/base",
      "_view_module_version": "1.2.0",
      "_view_name": "StyleView",
      "bar_color": null,
      "description_width": "initial"
     }
    },
    "6015823bb74d476cbbc38dd23af02eb6": {
     "model_module": "@jupyter-widgets/controls",
     "model_name": "HTMLModel",
     "state": {
      "_dom_classes": [],
      "_model_module": "@jupyter-widgets/controls",
      "_model_module_version": "1.5.0",
      "_model_name": "HTMLModel",
      "_view_count": null,
      "_view_module": "@jupyter-widgets/controls",
      "_view_module_version": "1.5.0",
      "_view_name": "HTMLView",
      "description": "",
      "description_tooltip": null,
      "layout": "IPY_MODEL_c9d87df0dae04bb589edbf5b4bbd72e0",
      "placeholder": "​",
      "style": "IPY_MODEL_ac933c13c67841798f8afd46242a5a1f",
      "value": " 32768/? [00:00&lt;00:00, 117918.19it/s]"
     }
    },
    "6b5f18f5266b479fb714e7866e361a52": {
     "model_module": "@jupyter-widgets/base",
     "model_name": "LayoutModel",
     "state": {
      "_model_module": "@jupyter-widgets/base",
      "_model_module_version": "1.2.0",
      "_model_name": "LayoutModel",
      "_view_count": null,
      "_view_module": "@jupyter-widgets/base",
      "_view_module_version": "1.2.0",
      "_view_name": "LayoutView",
      "align_content": null,
      "align_items": null,
      "align_self": null,
      "border": null,
      "bottom": null,
      "display": null,
      "flex": null,
      "flex_flow": null,
      "grid_area": null,
      "grid_auto_columns": null,
      "grid_auto_flow": null,
      "grid_auto_rows": null,
      "grid_column": null,
      "grid_gap": null,
      "grid_row": null,
      "grid_template_areas": null,
      "grid_template_columns": null,
      "grid_template_rows": null,
      "height": null,
      "justify_content": null,
      "justify_items": null,
      "left": null,
      "margin": null,
      "max_height": null,
      "max_width": null,
      "min_height": null,
      "min_width": null,
      "object_fit": null,
      "object_position": null,
      "order": null,
      "overflow": null,
      "overflow_x": null,
      "overflow_y": null,
      "padding": null,
      "right": null,
      "top": null,
      "visibility": null,
      "width": null
     }
    },
    "7110b1e56e0e450d9a2e9caa1af5b54f": {
     "model_module": "@jupyter-widgets/controls",
     "model_name": "FloatProgressModel",
     "state": {
      "_dom_classes": [],
      "_model_module": "@jupyter-widgets/controls",
      "_model_module_version": "1.5.0",
      "_model_name": "FloatProgressModel",
      "_view_count": null,
      "_view_module": "@jupyter-widgets/controls",
      "_view_module_version": "1.5.0",
      "_view_name": "ProgressView",
      "bar_style": "success",
      "description": "",
      "description_tooltip": null,
      "layout": "IPY_MODEL_a77b4b7f069d47dd970168baf8eb67b6",
      "max": 1,
      "min": 0,
      "orientation": "horizontal",
      "style": "IPY_MODEL_069e2978a742455db96a898f56a9bf11",
      "value": 1
     }
    },
    "78077ea5abe84de99f8c5e88ac7fa77c": {
     "model_module": "@jupyter-widgets/base",
     "model_name": "LayoutModel",
     "state": {
      "_model_module": "@jupyter-widgets/base",
      "_model_module_version": "1.2.0",
      "_model_name": "LayoutModel",
      "_view_count": null,
      "_view_module": "@jupyter-widgets/base",
      "_view_module_version": "1.2.0",
      "_view_name": "LayoutView",
      "align_content": null,
      "align_items": null,
      "align_self": null,
      "border": null,
      "bottom": null,
      "display": null,
      "flex": null,
      "flex_flow": null,
      "grid_area": null,
      "grid_auto_columns": null,
      "grid_auto_flow": null,
      "grid_auto_rows": null,
      "grid_column": null,
      "grid_gap": null,
      "grid_row": null,
      "grid_template_areas": null,
      "grid_template_columns": null,
      "grid_template_rows": null,
      "height": null,
      "justify_content": null,
      "justify_items": null,
      "left": null,
      "margin": null,
      "max_height": null,
      "max_width": null,
      "min_height": null,
      "min_width": null,
      "object_fit": null,
      "object_position": null,
      "order": null,
      "overflow": null,
      "overflow_x": null,
      "overflow_y": null,
      "padding": null,
      "right": null,
      "top": null,
      "visibility": null,
      "width": null
     }
    },
    "802319234e8e4b56aee7450e35d38e3c": {
     "model_module": "@jupyter-widgets/base",
     "model_name": "LayoutModel",
     "state": {
      "_model_module": "@jupyter-widgets/base",
      "_model_module_version": "1.2.0",
      "_model_name": "LayoutModel",
      "_view_count": null,
      "_view_module": "@jupyter-widgets/base",
      "_view_module_version": "1.2.0",
      "_view_name": "LayoutView",
      "align_content": null,
      "align_items": null,
      "align_self": null,
      "border": null,
      "bottom": null,
      "display": null,
      "flex": null,
      "flex_flow": null,
      "grid_area": null,
      "grid_auto_columns": null,
      "grid_auto_flow": null,
      "grid_auto_rows": null,
      "grid_column": null,
      "grid_gap": null,
      "grid_row": null,
      "grid_template_areas": null,
      "grid_template_columns": null,
      "grid_template_rows": null,
      "height": null,
      "justify_content": null,
      "justify_items": null,
      "left": null,
      "margin": null,
      "max_height": null,
      "max_width": null,
      "min_height": null,
      "min_width": null,
      "object_fit": null,
      "object_position": null,
      "order": null,
      "overflow": null,
      "overflow_x": null,
      "overflow_y": null,
      "padding": null,
      "right": null,
      "top": null,
      "visibility": null,
      "width": null
     }
    },
    "8b59088ce0a94802907f88f7e204aced": {
     "model_module": "@jupyter-widgets/controls",
     "model_name": "DescriptionStyleModel",
     "state": {
      "_model_module": "@jupyter-widgets/controls",
      "_model_module_version": "1.5.0",
      "_model_name": "DescriptionStyleModel",
      "_view_count": null,
      "_view_module": "@jupyter-widgets/base",
      "_view_module_version": "1.2.0",
      "_view_name": "StyleView",
      "description_width": ""
     }
    },
    "9711fadcef2d4ce49f6edce810dedfea": {
     "model_module": "@jupyter-widgets/controls",
     "model_name": "HBoxModel",
     "state": {
      "_dom_classes": [],
      "_model_module": "@jupyter-widgets/controls",
      "_model_module_version": "1.5.0",
      "_model_name": "HBoxModel",
      "_view_count": null,
      "_view_module": "@jupyter-widgets/controls",
      "_view_module_version": "1.5.0",
      "_view_name": "HBoxView",
      "box_style": "",
      "children": [
       "IPY_MODEL_0a9a32c402df4917a04d4fee7144aecb",
       "IPY_MODEL_042b2c6774d44f438f401e0e8295374b"
      ],
      "layout": "IPY_MODEL_78077ea5abe84de99f8c5e88ac7fa77c"
     }
    },
    "a5d53904cfda44daaa0a8e997f926017": {
     "model_module": "@jupyter-widgets/base",
     "model_name": "LayoutModel",
     "state": {
      "_model_module": "@jupyter-widgets/base",
      "_model_module_version": "1.2.0",
      "_model_name": "LayoutModel",
      "_view_count": null,
      "_view_module": "@jupyter-widgets/base",
      "_view_module_version": "1.2.0",
      "_view_name": "LayoutView",
      "align_content": null,
      "align_items": null,
      "align_self": null,
      "border": null,
      "bottom": null,
      "display": null,
      "flex": null,
      "flex_flow": null,
      "grid_area": null,
      "grid_auto_columns": null,
      "grid_auto_flow": null,
      "grid_auto_rows": null,
      "grid_column": null,
      "grid_gap": null,
      "grid_row": null,
      "grid_template_areas": null,
      "grid_template_columns": null,
      "grid_template_rows": null,
      "height": null,
      "justify_content": null,
      "justify_items": null,
      "left": null,
      "margin": null,
      "max_height": null,
      "max_width": null,
      "min_height": null,
      "min_width": null,
      "object_fit": null,
      "object_position": null,
      "order": null,
      "overflow": null,
      "overflow_x": null,
      "overflow_y": null,
      "padding": null,
      "right": null,
      "top": null,
      "visibility": null,
      "width": null
     }
    },
    "a77b4b7f069d47dd970168baf8eb67b6": {
     "model_module": "@jupyter-widgets/base",
     "model_name": "LayoutModel",
     "state": {
      "_model_module": "@jupyter-widgets/base",
      "_model_module_version": "1.2.0",
      "_model_name": "LayoutModel",
      "_view_count": null,
      "_view_module": "@jupyter-widgets/base",
      "_view_module_version": "1.2.0",
      "_view_name": "LayoutView",
      "align_content": null,
      "align_items": null,
      "align_self": null,
      "border": null,
      "bottom": null,
      "display": null,
      "flex": null,
      "flex_flow": null,
      "grid_area": null,
      "grid_auto_columns": null,
      "grid_auto_flow": null,
      "grid_auto_rows": null,
      "grid_column": null,
      "grid_gap": null,
      "grid_row": null,
      "grid_template_areas": null,
      "grid_template_columns": null,
      "grid_template_rows": null,
      "height": null,
      "justify_content": null,
      "justify_items": null,
      "left": null,
      "margin": null,
      "max_height": null,
      "max_width": null,
      "min_height": null,
      "min_width": null,
      "object_fit": null,
      "object_position": null,
      "order": null,
      "overflow": null,
      "overflow_x": null,
      "overflow_y": null,
      "padding": null,
      "right": null,
      "top": null,
      "visibility": null,
      "width": null
     }
    },
    "ac933c13c67841798f8afd46242a5a1f": {
     "model_module": "@jupyter-widgets/controls",
     "model_name": "DescriptionStyleModel",
     "state": {
      "_model_module": "@jupyter-widgets/controls",
      "_model_module_version": "1.5.0",
      "_model_name": "DescriptionStyleModel",
      "_view_count": null,
      "_view_module": "@jupyter-widgets/base",
      "_view_module_version": "1.2.0",
      "_view_name": "StyleView",
      "description_width": ""
     }
    },
    "ae9b287471c74765910c25b71feb447d": {
     "model_module": "@jupyter-widgets/controls",
     "model_name": "HTMLModel",
     "state": {
      "_dom_classes": [],
      "_model_module": "@jupyter-widgets/controls",
      "_model_module_version": "1.5.0",
      "_model_name": "HTMLModel",
      "_view_count": null,
      "_view_module": "@jupyter-widgets/controls",
      "_view_module_version": "1.5.0",
      "_view_name": "HTMLView",
      "description": "",
      "description_tooltip": null,
      "layout": "IPY_MODEL_1bbec82e9e954e27a2e55c12c918d9ff",
      "placeholder": "​",
      "style": "IPY_MODEL_03b9fec6c2f84f0e8943f4cf8f408e71",
      "value": " 1654784/? [00:01&lt;00:00, 1281078.80it/s]"
     }
    },
    "b35cc7069ca841b2ae11108854f1b2c4": {
     "model_module": "@jupyter-widgets/controls",
     "model_name": "DescriptionStyleModel",
     "state": {
      "_model_module": "@jupyter-widgets/controls",
      "_model_module_version": "1.5.0",
      "_model_name": "DescriptionStyleModel",
      "_view_count": null,
      "_view_module": "@jupyter-widgets/base",
      "_view_module_version": "1.2.0",
      "_view_name": "StyleView",
      "description_width": ""
     }
    },
    "c0f9e5f05cf74c37a40edaab81d315e8": {
     "model_module": "@jupyter-widgets/base",
     "model_name": "LayoutModel",
     "state": {
      "_model_module": "@jupyter-widgets/base",
      "_model_module_version": "1.2.0",
      "_model_name": "LayoutModel",
      "_view_count": null,
      "_view_module": "@jupyter-widgets/base",
      "_view_module_version": "1.2.0",
      "_view_name": "LayoutView",
      "align_content": null,
      "align_items": null,
      "align_self": null,
      "border": null,
      "bottom": null,
      "display": null,
      "flex": null,
      "flex_flow": null,
      "grid_area": null,
      "grid_auto_columns": null,
      "grid_auto_flow": null,
      "grid_auto_rows": null,
      "grid_column": null,
      "grid_gap": null,
      "grid_row": null,
      "grid_template_areas": null,
      "grid_template_columns": null,
      "grid_template_rows": null,
      "height": null,
      "justify_content": null,
      "justify_items": null,
      "left": null,
      "margin": null,
      "max_height": null,
      "max_width": null,
      "min_height": null,
      "min_width": null,
      "object_fit": null,
      "object_position": null,
      "order": null,
      "overflow": null,
      "overflow_x": null,
      "overflow_y": null,
      "padding": null,
      "right": null,
      "top": null,
      "visibility": null,
      "width": null
     }
    },
    "c9d87df0dae04bb589edbf5b4bbd72e0": {
     "model_module": "@jupyter-widgets/base",
     "model_name": "LayoutModel",
     "state": {
      "_model_module": "@jupyter-widgets/base",
      "_model_module_version": "1.2.0",
      "_model_name": "LayoutModel",
      "_view_count": null,
      "_view_module": "@jupyter-widgets/base",
      "_view_module_version": "1.2.0",
      "_view_name": "LayoutView",
      "align_content": null,
      "align_items": null,
      "align_self": null,
      "border": null,
      "bottom": null,
      "display": null,
      "flex": null,
      "flex_flow": null,
      "grid_area": null,
      "grid_auto_columns": null,
      "grid_auto_flow": null,
      "grid_auto_rows": null,
      "grid_column": null,
      "grid_gap": null,
      "grid_row": null,
      "grid_template_areas": null,
      "grid_template_columns": null,
      "grid_template_rows": null,
      "height": null,
      "justify_content": null,
      "justify_items": null,
      "left": null,
      "margin": null,
      "max_height": null,
      "max_width": null,
      "min_height": null,
      "min_width": null,
      "object_fit": null,
      "object_position": null,
      "order": null,
      "overflow": null,
      "overflow_x": null,
      "overflow_y": null,
      "padding": null,
      "right": null,
      "top": null,
      "visibility": null,
      "width": null
     }
    },
    "d2e79f84f1b7478dbab9298288491918": {
     "model_module": "@jupyter-widgets/controls",
     "model_name": "ProgressStyleModel",
     "state": {
      "_model_module": "@jupyter-widgets/controls",
      "_model_module_version": "1.5.0",
      "_model_name": "ProgressStyleModel",
      "_view_count": null,
      "_view_module": "@jupyter-widgets/base",
      "_view_module_version": "1.2.0",
      "_view_name": "StyleView",
      "bar_color": null,
      "description_width": "initial"
     }
    },
    "fecd905fc9e8436e8bdb2d3f5c08cd84": {
     "model_module": "@jupyter-widgets/controls",
     "model_name": "HBoxModel",
     "state": {
      "_dom_classes": [],
      "_model_module": "@jupyter-widgets/controls",
      "_model_module_version": "1.5.0",
      "_model_name": "HBoxModel",
      "_view_count": null,
      "_view_module": "@jupyter-widgets/controls",
      "_view_module_version": "1.5.0",
      "_view_name": "HBoxView",
      "box_style": "",
      "children": [
       "IPY_MODEL_7110b1e56e0e450d9a2e9caa1af5b54f",
       "IPY_MODEL_09db493c85a0475495273cbd8d1a223f"
      ],
      "layout": "IPY_MODEL_802319234e8e4b56aee7450e35d38e3c"
     }
    }
   }
  }
 },
 "nbformat": 4,
 "nbformat_minor": 1
}
